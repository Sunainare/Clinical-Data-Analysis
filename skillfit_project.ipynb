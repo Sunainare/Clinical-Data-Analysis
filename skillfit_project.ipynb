{
  "cells": [
    {
      "cell_type": "code",
      "execution_count": null,
      "metadata": {
        "colab": {
          "base_uri": "https://localhost:8080/"
        },
        "id": "3DDNDbhWplWU",
        "outputId": "ca15638e-9613-4784-89fe-51bf79a2a85e"
      },
      "outputs": [
        {
          "name": "stdout",
          "output_type": "stream",
          "text": [
            "Mounted at /content/drive\n"
          ]
        }
      ],
      "source": [
        "from google.colab import drive\n",
        "drive.mount('/content/drive')\n"
      ]
    },
    {
      "cell_type": "code",
      "execution_count": null,
      "metadata": {
        "id": "xKjXcekTkKT0"
      },
      "outputs": [],
      "source": []
    },
    {
      "cell_type": "code",
      "execution_count": null,
      "metadata": {
        "colab": {
          "base_uri": "https://localhost:8080/"
        },
        "id": "cCMW7jxorQlz",
        "outputId": "4a9d1e8c-2f7f-4b3f-9ab3-febc0386cee1"
      },
      "outputs": [
        {
          "name": "stdout",
          "output_type": "stream",
          "text": [
            "/content/drive/MyDrive/SKILLFIT\n"
          ]
        }
      ],
      "source": [
        "%cd \"/content/drive/MyDrive/SKILLFIT\""
      ]
    },
    {
      "cell_type": "code",
      "execution_count": null,
      "metadata": {
        "id": "H4_50CLGrjit"
      },
      "outputs": [],
      "source": [
        "import json"
      ]
    },
    {
      "cell_type": "code",
      "execution_count": null,
      "metadata": {
        "id": "skO1ubiYrk2u"
      },
      "outputs": [],
      "source": [
        "data = json.load(open('/content/drive/MyDrive/SKILLFIT/finall.json','r'))"
      ]
    },
    {
      "cell_type": "code",
      "execution_count": null,
      "metadata": {
        "colab": {
          "base_uri": "https://localhost:8080/"
        },
        "id": "4FsVEQdxsMYD",
        "outputId": "72ec1fdf-cfcd-49a3-97d3-58c62386e8ef"
      },
      "outputs": [
        {
          "data": {
            "text/plain": [
              "2"
            ]
          },
          "execution_count": 5,
          "metadata": {},
          "output_type": "execute_result"
        }
      ],
      "source": [
        "len(data)"
      ]
    },
    {
      "cell_type": "code",
      "execution_count": null,
      "metadata": {
        "colab": {
          "base_uri": "https://localhost:8080/"
        },
        "id": "V-kseQ7AsRFM",
        "outputId": "32d13406-150d-4ac7-96da-0fb4dc2d2a13"
      },
      "outputs": [
        {
          "name": "stdout",
          "output_type": "stream",
          "text": [
            "Keys in data: dict_keys(['classes', 'annotations'])\n"
          ]
        }
      ],
      "source": [
        "# data[-1]\n",
        "print(\"Keys in data:\", data.keys())"
      ]
    },
    {
      "cell_type": "code",
      "execution_count": null,
      "metadata": {
        "colab": {
          "base_uri": "https://localhost:8080/"
        },
        "id": "eBXYcPxovyOE",
        "outputId": "932db201-944a-4162-bc55-9f9be25b50a4"
      },
      "outputs": [
        {
          "data": {
            "text/plain": [
              "['This 55 years Asian female presents with a complaint of severe migraine headaches. She has a history of chronic migraines for the past 10 years, typically triggered by stress and lack of sleep. She has tried over-the-counter medications such as Excedrin and Tylenol, which provide partial relief. She denies any recent head injury or trauma. She has no known allergies. Her weight is 140 pounds, and her blood pressure is 130/85. Examination: Physical examination reveals tenderness in the scalp and neck muscles, but no neurological deficits. Assessment: Chronic migraine headaches . Prescribe sumatriptan 50 mg as needed for acute migraine attacks, consider prophylactic medication (propranolol 40 mg daily) if migraines persist, and follow-up in 4 weeks.\\r',\n",
              " {'entities': [[5, 13, 'AGE'],\n",
              "   [20, 26, 'GENDER'],\n",
              "   [63, 82, 'SYMPTOMS'],\n",
              "   [104, 143, 'HISTORY'],\n",
              "   [168, 193, 'HISTORY'],\n",
              "   [245, 253, 'MEDICINE'],\n",
              "   [258, 265, 'MEDICINE'],\n",
              "   [384, 394, 'WEIGHT'],\n",
              "   [422, 429, 'WEIGHT'],\n",
              "   [595, 606, 'MEDICINE'],\n",
              "   [607, 612, 'DOSAGE'],\n",
              "   [685, 696, 'MEDICINE'],\n",
              "   [697, 702, 'DOSAGE'],\n",
              "   [749, 756, 'FOLLOWUP']]}]"
            ]
          },
          "execution_count": 7,
          "metadata": {},
          "output_type": "execute_result"
        }
      ],
      "source": [
        "data['annotations'][0]"
      ]
    },
    {
      "cell_type": "code",
      "execution_count": null,
      "metadata": {
        "id": "Gz94vE8iwQh_"
      },
      "outputs": [],
      "source": [
        "import spacy\n",
        "from spacy.tokens import DocBin\n",
        "from tqdm import tqdm\n",
        "\n",
        "nlp = spacy.blank(\"en\") # load a new spacy model\n",
        "db = DocBin()"
      ]
    },
    {
      "cell_type": "code",
      "execution_count": null,
      "metadata": {
        "id": "cGyn4qjgwXOS"
      },
      "outputs": [],
      "source": [
        "import spacy\n",
        "from spacy.tokens import DocBin\n",
        "from tqdm import tqdm\n",
        "\n",
        "def get_spacy_doc(file, data):\n",
        "    # Create a blank spaCy pipeline\n",
        "    nlp = spacy.blank('en')\n",
        "    db = DocBin()\n",
        "\n",
        "    # Iterate through the data\n",
        "    for item in tqdm(data):\n",
        "        if isinstance(item, list) and len(item) == 2:\n",
        "            item = tuple(item)  # Convert list to tuple if necessary\n",
        "\n",
        "        if not isinstance(item, tuple) or len(item) != 2:\n",
        "            print(f\"Skipping invalid item: {item}\")\n",
        "            continue\n",
        "\n",
        "        text, annot = item\n",
        "        if not isinstance(annot, dict) or 'entities' not in annot:\n",
        "            print(f\"Invalid annotation format for item: {item}\")\n",
        "            continue\n",
        "\n",
        "        doc = nlp.make_doc(text)\n",
        "        ents = []\n",
        "        entity_indices = []\n",
        "\n",
        "        # Extract entities from the annotations\n",
        "        for start, end, label in annot['entities']:\n",
        "            if any(idx in entity_indices for idx in range(start, end)):\n",
        "                continue\n",
        "\n",
        "            entity_indices.extend(range(start, end))\n",
        "            span = doc.char_span(start, end, label=label, alignment_mode='strict')\n",
        "\n",
        "            if span is None:\n",
        "                # Log errors for annotations that couldn't be processed\n",
        "                err_data = f\"[{start}, {end}]    {text}\\n\"\n",
        "                file.write(err_data)\n",
        "            else:\n",
        "                ents.append(span)\n",
        "\n",
        "        try:\n",
        "            doc.ents = ents\n",
        "            db.add(doc)\n",
        "        except Exception as e:\n",
        "            print(f\"Error adding doc to DocBin: {e}\")\n",
        "            continue\n",
        "\n",
        "    return db"
      ]
    },
    {
      "cell_type": "code",
      "execution_count": null,
      "metadata": {
        "colab": {
          "base_uri": "https://localhost:8080/"
        },
        "id": "YWK9sOojxBoi",
        "outputId": "da96b385-11df-45a1-8191-9e345da8cabf"
      },
      "outputs": [
        {
          "name": "stdout",
          "output_type": "stream",
          "text": [
            "Number of items in training set: 563\n",
            "Number of items in testing set: 141\n"
          ]
        }
      ],
      "source": [
        "from sklearn.model_selection import train_test_split\n",
        "\n",
        "# Assuming 'data' is dictionary\n",
        "annotations_data = data['annotations']\n",
        "\n",
        "# Split the data\n",
        "train, test = train_test_split(annotations_data, test_size=0.2)\n",
        "\n",
        "print(\"Number of items in training set:\", len(train))\n",
        "print(\"Number of items in testing set:\", len(test))\n"
      ]
    },
    {
      "cell_type": "code",
      "execution_count": null,
      "metadata": {
        "colab": {
          "base_uri": "https://localhost:8080/"
        },
        "id": "oDMxxStsxdb6",
        "outputId": "c19e846c-d3cf-4998-d75b-b894bac28008"
      },
      "outputs": [
        {
          "data": {
            "text/plain": [
              "<_io.TextIOWrapper name='/content/drive/MyDrive/SKILLFIT/trained_models/train_model.txt' mode='w' encoding='UTF-8'>"
            ]
          },
          "execution_count": 11,
          "metadata": {},
          "output_type": "execute_result"
        }
      ],
      "source": [
        "# Assuming 'train' is your training dataset\n",
        "open('/content/drive/MyDrive/SKILLFIT/trained_models/train_model.txt', 'w')\n",
        "\n",
        "\n"
      ]
    },
    {
      "cell_type": "markdown",
      "metadata": {
        "id": "q6H5Ous-ztBg"
      },
      "source": []
    },
    {
      "cell_type": "code",
      "execution_count": null,
      "metadata": {
        "colab": {
          "base_uri": "https://localhost:8080/"
        },
        "id": "0-G5tZpJzWvB",
        "outputId": "f09979ec-0bf5-475a-98a1-8ad57b2222b8"
      },
      "outputs": [
        {
          "name": "stderr",
          "output_type": "stream",
          "text": [
            "/usr/local/lib/python3.10/dist-packages/spacy/util.py:1740: UserWarning: [W111] Jupyter notebook detected: if using `prefer_gpu()` or `require_gpu()`, include it in the same cell right before `spacy.load()` to ensure that the model is loaded on the correct device. More information: http://spacy.io/usage/v3#jupyter-notebook-gpu\n",
            "  warnings.warn(Warnings.W111)\n",
            "  0%|          | 0/563 [00:00<?, ?it/s]"
          ]
        },
        {
          "name": "stdout",
          "output_type": "stream",
          "text": [
            "Skipping invalid item: None\n",
            "Skipping invalid item: None\n",
            "Skipping invalid item: None\n"
          ]
        },
        {
          "name": "stderr",
          "output_type": "stream",
          "text": [
            " 76%|███████▌  | 427/563 [00:00<00:00, 2193.95it/s]"
          ]
        },
        {
          "name": "stdout",
          "output_type": "stream",
          "text": [
            "Skipping invalid item: None\n",
            "Skipping invalid item: None\n",
            "Skipping invalid item: None\n",
            "Skipping invalid item: None\n",
            "Skipping invalid item: None\n",
            "Skipping invalid item: None\n",
            "Skipping invalid item: None\n",
            "Skipping invalid item: None\n",
            "Skipping invalid item: None\n",
            "Skipping invalid item: None\n",
            "Skipping invalid item: None\n",
            "Skipping invalid item: None\n",
            "Skipping invalid item: None\n",
            "Skipping invalid item: None\n",
            "Skipping invalid item: None\n",
            "Skipping invalid item: None\n",
            "Skipping invalid item: None\n",
            "Skipping invalid item: None\n",
            "Skipping invalid item: None\n",
            "Skipping invalid item: None\n",
            "Skipping invalid item: None\n",
            "Skipping invalid item: None\n",
            "Skipping invalid item: None\n",
            "Skipping invalid item: None\n",
            "Skipping invalid item: None\n",
            "Skipping invalid item: None\n",
            "Skipping invalid item: None\n",
            "Skipping invalid item: None\n",
            "Skipping invalid item: None\n",
            "Skipping invalid item: None\n",
            "Skipping invalid item: None\n",
            "Skipping invalid item: None\n",
            "Skipping invalid item: None\n",
            "Skipping invalid item: None\n",
            "Skipping invalid item: None\n",
            "Skipping invalid item: None\n",
            "Skipping invalid item: None\n",
            "Skipping invalid item: None\n",
            "Skipping invalid item: None\n",
            "Skipping invalid item: None\n",
            "Skipping invalid item: None\n",
            "Skipping invalid item: None\n",
            "Skipping invalid item: None\n",
            "Skipping invalid item: None\n",
            "Skipping invalid item: None\n",
            "Skipping invalid item: None\n",
            "Skipping invalid item: None"
          ]
        },
        {
          "name": "stderr",
          "output_type": "stream",
          "text": [
            "\r100%|██████████| 563/563 [00:00<00:00, 2283.49it/s]"
          ]
        },
        {
          "name": "stdout",
          "output_type": "stream",
          "text": [
            "\n",
            "Skipping invalid item: None\n"
          ]
        },
        {
          "name": "stderr",
          "output_type": "stream",
          "text": [
            "\n"
          ]
        }
      ],
      "source": [
        "# Open the file for writing\n",
        "file = open('/content/drive/MyDrive/SKILLFIT/trained_models/train_model.txt', 'w')\n",
        "\n",
        "# Get the spaCy DocBin object\n",
        "db = get_spacy_doc(file, train)\n",
        "\n",
        "# Close the file\n",
        "file.close()\n",
        "\n",
        "# Save the DocBin object to disk\n",
        "db.to_disk('/content/drive/MyDrive/SKILLFIT/trained_models/train_data.spacy')"
      ]
    },
    {
      "cell_type": "code",
      "execution_count": null,
      "metadata": {
        "id": "21WKTGt2zhTL"
      },
      "outputs": [],
      "source": [
        "file = open('/content/drive/MyDrive/SKILLFIT/trained_models/test_file.txt', 'w')\n",
        "db.to_disk('/content/drive/MyDrive/SKILLFIT/trained_models/test_data.spacy')\n"
      ]
    },
    {
      "cell_type": "code",
      "execution_count": null,
      "metadata": {
        "colab": {
          "base_uri": "https://localhost:8080/"
        },
        "id": "zaWRWCV6tJ4j",
        "outputId": "9a569f63-0a02-482a-c1b9-b804d27ffb1f"
      },
      "outputs": [
        {
          "name": "stdout",
          "output_type": "stream",
          "text": [
            "[paths]\n",
            "train = null\n",
            "dev = null\n",
            "vectors = null\n",
            "init_tok2vec = null\n",
            "\n",
            "[system]\n",
            "gpu_allocator = null\n",
            "seed = 0\n",
            "\n",
            "[nlp]\n",
            "lang = \"en\"\n",
            "pipeline = [\"tok2vec\",\"ner\"]\n",
            "batch_size = 1000\n",
            "disabled = []\n",
            "before_creation = null\n",
            "after_creation = null\n",
            "after_pipeline_creation = null\n",
            "tokenizer = {\"@tokenizers\":\"spacy.Tokenizer.v1\"}\n",
            "vectors = {\"@vectors\":\"spacy.Vectors.v1\"}\n",
            "\n",
            "[components]\n",
            "\n",
            "[components.ner]\n",
            "factory = \"ner\"\n",
            "incorrect_spans_key = null\n",
            "moves = null\n",
            "scorer = {\"@scorers\":\"spacy.ner_scorer.v1\"}\n",
            "update_with_oracle_cut_size = 100\n",
            "\n",
            "[components.ner.model]\n",
            "@architectures = \"spacy.TransitionBasedParser.v2\"\n",
            "state_type = \"ner\"\n",
            "extra_state_tokens = false\n",
            "hidden_width = 64\n",
            "maxout_pieces = 2\n",
            "use_upper = true\n",
            "nO = null\n",
            "\n",
            "[components.ner.model.tok2vec]\n",
            "@architectures = \"spacy.Tok2VecListener.v1\"\n",
            "width = ${components.tok2vec.model.encode.width}\n",
            "upstream = \"*\"\n",
            "\n",
            "[components.tok2vec]\n",
            "factory = \"tok2vec\"\n",
            "\n",
            "[components.tok2vec.model]\n",
            "@architectures = \"spacy.Tok2Vec.v2\"\n",
            "\n",
            "[components.tok2vec.model.embed]\n",
            "@architectures = \"spacy.MultiHashEmbed.v2\"\n",
            "width = ${components.tok2vec.model.encode.width}\n",
            "attrs = [\"NORM\",\"PREFIX\",\"SUFFIX\",\"SHAPE\"]\n",
            "rows = [5000,1000,2500,2500]\n",
            "include_static_vectors = false\n",
            "\n",
            "[components.tok2vec.model.encode]\n",
            "@architectures = \"spacy.MaxoutWindowEncoder.v2\"\n",
            "width = 96\n",
            "depth = 4\n",
            "window_size = 1\n",
            "maxout_pieces = 3\n",
            "\n",
            "[corpora]\n",
            "\n",
            "[corpora.dev]\n",
            "@readers = \"spacy.Corpus.v1\"\n",
            "path = \"/content/drive/MyDrive/SKILLFIT/trained_models/test_data.spacy\"\n",
            "max_length = 0\n",
            "gold_preproc = false\n",
            "limit = 0\n",
            "augmenter = null\n",
            "\n",
            "[corpora.train]\n",
            "@readers = \"spacy.Corpus.v1\"\n",
            "path = \"/content/drive/MyDrive/SKILLFIT/trained_models/train_data.spacy\"\n",
            "max_length = 0\n",
            "gold_preproc = false\n",
            "limit = 0\n",
            "augmenter = null\n",
            "\n",
            "[training]\n",
            "dev_corpus = \"corpora.dev\"\n",
            "train_corpus = \"corpora.train\"\n",
            "seed = ${system.seed}\n",
            "gpu_allocator = ${system.gpu_allocator}\n",
            "dropout = 0.1\n",
            "accumulate_gradient = 1\n",
            "patience = 1600\n",
            "max_epochs = 0\n",
            "max_steps = 20000\n",
            "eval_frequency = 200\n",
            "frozen_components = []\n",
            "annotating_components = []\n",
            "before_to_disk = null\n",
            "before_update = null\n",
            "\n",
            "[training.batcher]\n",
            "@batchers = \"spacy.batch_by_words.v1\"\n",
            "discard_oversize = false\n",
            "tolerance = 0.2\n",
            "get_length = null\n",
            "\n",
            "[training.batcher.size]\n",
            "@schedules = \"compounding.v1\"\n",
            "start = 100\n",
            "stop = 1000\n",
            "compound = 1.001\n",
            "t = 0.0\n",
            "\n",
            "[training.logger]\n",
            "@loggers = \"spacy.ConsoleLogger.v1\"\n",
            "progress_bar = false\n",
            "\n",
            "[training.optimizer]\n",
            "@optimizers = \"Adam.v1\"\n",
            "beta1 = 0.9\n",
            "beta2 = 0.999\n",
            "L2_is_weight_decay = true\n",
            "L2 = 0.01\n",
            "grad_clip = 1.0\n",
            "use_averages = false\n",
            "eps = 0.00000001\n",
            "learn_rate = 0.001\n",
            "\n",
            "[training.score_weights]\n",
            "ents_f = 1.0\n",
            "ents_p = 0.0\n",
            "ents_r = 0.0\n",
            "ents_per_type = null\n",
            "\n",
            "[pretraining]\n",
            "\n",
            "[initialize]\n",
            "vectors = ${paths.vectors}\n",
            "init_tok2vec = ${paths.init_tok2vec}\n",
            "vocab_data = null\n",
            "lookups = null\n",
            "before_init = null\n",
            "after_init = null\n",
            "\n",
            "[initialize.components]\n",
            "\n",
            "[initialize.tokenizer]\n"
          ]
        }
      ],
      "source": [
        "!python -m spacy init fill-config /content/drive/MyDrive/SKILLFIT/config/config.cfg\n"
      ]
    },
    {
      "cell_type": "code",
      "execution_count": null,
      "metadata": {
        "colab": {
          "background_save": true,
          "base_uri": "https://localhost:8080/"
        },
        "id": "d75WbMMwz894",
        "outputId": "f3a3ca73-be23-4afb-ad6b-42d3b8c987ff"
      },
      "outputs": [
        {
          "name": "stdout",
          "output_type": "stream",
          "text": [
            "\u001b[38;5;4mℹ Saving to output directory:\n",
            "/content/drive/MyDrive/SKILLFIT/trained_models/output\u001b[0m\n",
            "\u001b[38;5;4mℹ Using CPU\u001b[0m\n",
            "\u001b[38;5;4mℹ To switch to GPU 0, use the option: --gpu-id 0\u001b[0m\n",
            "\u001b[1m\n",
            "=========================== Initializing pipeline ===========================\u001b[0m\n",
            "2024-06-16 17:44:39.007450: E external/local_xla/xla/stream_executor/cuda/cuda_dnn.cc:9261] Unable to register cuDNN factory: Attempting to register factory for plugin cuDNN when one has already been registered\n",
            "2024-06-16 17:44:39.007502: E external/local_xla/xla/stream_executor/cuda/cuda_fft.cc:607] Unable to register cuFFT factory: Attempting to register factory for plugin cuFFT when one has already been registered\n",
            "2024-06-16 17:44:39.008907: E external/local_xla/xla/stream_executor/cuda/cuda_blas.cc:1515] Unable to register cuBLAS factory: Attempting to register factory for plugin cuBLAS when one has already been registered\n",
            "2024-06-16 17:44:39.016502: I tensorflow/core/platform/cpu_feature_guard.cc:182] This TensorFlow binary is optimized to use available CPU instructions in performance-critical operations.\n",
            "To enable the following instructions: AVX2 AVX512F FMA, in other operations, rebuild TensorFlow with the appropriate compiler flags.\n",
            "2024-06-16 17:44:40.210340: W tensorflow/compiler/tf2tensorrt/utils/py_utils.cc:38] TF-TRT Warning: Could not find TensorRT\n",
            "\u001b[38;5;2m✔ Initialized pipeline\u001b[0m\n",
            "\u001b[1m\n",
            "============================= Training pipeline =============================\u001b[0m\n",
            "\u001b[38;5;4mℹ Pipeline: ['tok2vec', 'ner']\u001b[0m\n",
            "\u001b[38;5;4mℹ Initial learn rate: 0.001\u001b[0m\n",
            "E    #       LOSS TOK2VEC  LOSS NER  ENTS_F  ENTS_P  ENTS_R  SCORE \n",
            "---  ------  ------------  --------  ------  ------  ------  ------\n",
            "  0       0          0.00     66.98    0.00    0.00    0.00    0.00\n",
            "  0     200       1814.06   3517.02   62.22   82.34   50.00    0.62\n",
            "  1     400        230.02   1354.37   66.88   71.79   62.61    0.67\n",
            "  2     600        258.81   1343.78   79.94   77.82   82.17    0.80\n",
            "  3     800        338.93   1425.18   85.62   82.81   88.62    0.86\n",
            "  5    1000       2141.21   1422.48   87.11   89.48   84.85    0.87\n",
            "  7    1200        465.62   1654.98   89.95   90.48   89.42    0.90\n",
            " 10    1400        383.87   1562.48   90.43   90.37   90.50    0.90\n",
            " 13    1600        529.37   1824.61   93.06   92.20   93.93    0.93\n",
            " 18    1800        457.72   1945.71   93.20   93.22   93.18    0.93\n",
            " 23    2000        496.51   2258.08   93.40   91.94   94.92    0.93\n",
            " 30    2200        506.51   2450.98   94.15   93.34   94.97    0.94\n",
            " 37    2400        798.74   2810.71   94.42   93.74   95.11    0.94\n",
            " 45    2600        545.70   2622.52   94.60   94.01   95.20    0.95\n",
            " 53    2800        453.04   2408.77   94.45   92.86   96.10    0.94\n",
            " 61    3000        457.22   2415.15   95.02   95.44   94.59    0.95\n",
            " 69    3200        471.86   2465.77   94.85   93.55   96.19    0.95\n",
            " 77    3400        435.84   2338.00   94.79   95.86   93.74    0.95\n",
            " 85    3600        405.80   2282.65   95.24   94.49   96.00    0.95\n",
            " 93    3800        420.87   2276.80   95.00   96.64   93.41    0.95\n",
            "101    4000        390.10   2240.40   95.48   95.57   95.39    0.95\n",
            "109    4200        378.53   2195.18   95.35   94.67   96.05    0.95\n",
            "117    4400        347.20   2128.38   95.45   94.23   96.71    0.95\n",
            "125    4600        390.24   2124.24   95.24   94.99   95.48    0.95\n",
            "133    4800        393.01   2145.44   95.62   96.32   94.92    0.96\n",
            "141    5000        349.94   2096.44   95.56   95.49   95.63    0.96\n",
            "149    5200        317.78   2021.86   95.73   96.02   95.44    0.96\n",
            "157    5400        406.18   2056.69   95.64   94.86   96.43    0.96\n",
            "165    5600        340.81   2007.17   95.45   94.31   96.61    0.95\n",
            "173    5800        364.74   1986.19   95.80   96.20   95.39    0.96\n",
            "181    6000        334.97   1965.44   95.69   94.83   96.57    0.96\n",
            "189    6200        287.50   1971.07   95.85   95.47   96.24    0.96\n",
            "197    6400        307.25   1954.54   95.68   95.98   95.39    0.96\n",
            "205    6600        354.95   1928.39   95.81   95.34   96.28    0.96\n",
            "213    6800        252.16   1883.82   95.80   95.13   96.47    0.96\n",
            "221    7000        295.13   1900.64   95.87   95.65   96.10    0.96\n",
            "229    7200        284.04   1882.86   95.94   95.23   96.66    0.96\n",
            "237    7400        356.56   1948.41   95.94   95.19   96.71    0.96\n",
            "245    7600        302.74   1820.86   95.56   95.53   95.58    0.96\n",
            "253    7800        309.28   1794.68   95.85   96.70   95.01    0.96\n",
            "261    8000        327.78   1822.31   96.04   95.79   96.28    0.96\n",
            "269    8200        299.19   1786.97   95.60   94.57   96.66    0.96\n",
            "277    8400        312.28   1816.41   95.84   96.34   95.34    0.96\n",
            "285    8600        272.69   1798.70   95.85   96.12   95.58    0.96\n",
            "293    8800        275.17   1780.85   95.81   95.38   96.24    0.96\n",
            "301    9000        257.25   1736.03   95.77   95.60   95.95    0.96\n",
            "309    9200        413.62   1830.98   95.93   96.00   95.86    0.96\n",
            "317    9400        286.09   1743.99   95.97   95.02   96.94    0.96\n",
            "325    9600        278.24   1823.43   95.94   95.10   96.80    0.96\n",
            "\u001b[38;5;2m✔ Saved pipeline to output directory\u001b[0m\n",
            "/content/drive/MyDrive/SKILLFIT/trained_models/output/model-last\n"
          ]
        }
      ],
      "source": [
        "!python -m spacy train /content/drive/MyDrive/SKILLFIT/config/config.cfg  --output /content/drive/MyDrive/SKILLFIT/trained_models/output  --paths.train /content/drive/MyDrive/SKILLFIT/trained_models/train_data.spacy  --paths.dev /content/drive/MyDrive/SKILLFIT/trained_models/test_data.spacy\n"
      ]
    },
    {
      "cell_type": "code",
      "execution_count": null,
      "metadata": {
        "colab": {
          "background_save": true
        },
        "id": "yrEr1wJC3T7-"
      },
      "outputs": [],
      "source": [
        "nlp = spacy.load('/content/drive/MyDrive/SKILLFIT/trained_models/output/model-best')"
      ]
    },
    {
      "cell_type": "markdown",
      "metadata": {
        "id": "O46hu4xz4lr6"
      },
      "source": []
    },
    {
      "cell_type": "code",
      "execution_count": null,
      "metadata": {
        "colab": {
          "background_save": true
        },
        "id": "9jgS60z33cqA"
      },
      "outputs": [],
      "source": [
        "doc=nlp(\"Mr. ABC is a 60-year-old gentleman who had a markedly abnormal stress test earlier today in my office with severe chest pain after 5 minutes of exercise on the standard Bruce with horizontal ST depressions and moderate apical ischemia on stress imaging only. He required 3 sublingual nitroglycerin in total (please see also admission history and physical for full details). The patient underwent cardiac catheterization with myself today which showed mild-to-moderate left main distal disease of 30%, moderate proximal LAD with a severe mid-LAD lesion of 99%, and a mid-left circumflex lesion of 80% with normal LV function and some mild luminal irregularities in the right coronary artery with some moderate stenosis seen in the mid to distal right PDA. Medications: Aspirin 325 mg once a day., Metoprolol 50 mg once a day,  Nexium 40 mg once a day,Zocor 40 mg once a day,  Plavix 600 mg.\\r\")"
      ]
    },
    {
      "cell_type": "code",
      "execution_count": null,
      "metadata": {
        "colab": {
          "background_save": true
        },
        "id": "BPvEIAn63f4j",
        "outputId": "5b79c7ff-15fa-40fe-d900-f87e76863550"
      },
      "outputs": [
        {
          "name": "stdout",
          "output_type": "stream",
          "text": [
            "[{'Entity': 'HISTORY', 'Text': '60-year-old gentleman who had a markedly abnormal'}, {'Entity': 'SYMPTOMS', 'Text': 'chest pain'}, {'Entity': 'MEDICINE', 'Text': 'Aspirin'}, {'Entity': 'DOSAGE', 'Text': '325 mg'}, {'Entity': 'MEDICINE', 'Text': 'Metoprolol'}, {'Entity': 'DOSAGE', 'Text': '50 mg once a'}, {'Entity': 'MEDICINE', 'Text': 'Nexium'}, {'Entity': 'DOSAGE', 'Text': '40 mg once a'}, {'Entity': 'MEDICINE', 'Text': 'Zocor'}, {'Entity': 'DOSAGE', 'Text': '40 mg once a day,  '}, {'Entity': 'DOSAGE', 'Text': '600 mg.'}]\n"
          ]
        }
      ],
      "source": [
        "entities=[]\n",
        "for entity in doc.ents:\n",
        "  entities.append({\"Entity\": entity.label_,\"Text\": entity.text})\n",
        "print(entities)"
      ]
    },
    {
      "cell_type": "code",
      "execution_count": null,
      "metadata": {
        "colab": {
          "background_save": true
        },
        "id": "cuXPuRDA3waK",
        "outputId": "175133dd-6c17-485a-9926-4c7da1aa3191"
      },
      "outputs": [
        {
          "name": "stdout",
          "output_type": "stream",
          "text": [
            "                                             HISTORY    SYMPTOMS    MEDICINE  \\\n",
            "0  60-year-old gentleman who had a markedly abnormal  chest pain     Aspirin   \n",
            "1                                               None        None  Metoprolol   \n",
            "2                                               None        None      Nexium   \n",
            "3                                               None        None       Zocor   \n",
            "4                                               None        None        None   \n",
            "\n",
            "                DOSAGE  \n",
            "0               325 mg  \n",
            "1         50 mg once a  \n",
            "2         40 mg once a  \n",
            "3  40 mg once a day,    \n",
            "4              600 mg.  \n"
          ]
        }
      ],
      "source": [
        "import pandas as pd\n",
        "\n",
        "data = {}\n",
        "\n",
        "for entity in entities:\n",
        "    entity_type = entity['Entity']\n",
        "    entity_value = entity['Text']\n",
        "\n",
        "    if entity_type not in data:\n",
        "        data[entity_type] = []\n",
        "\n",
        "    data[entity_type].append(entity_value)\n",
        "\n",
        "max_length = max(len(values) for values in data.values())\n",
        "\n",
        "# Normalizing lengths of the lists in the data dictionary\n",
        "for key in data:\n",
        "    if len(data[key]) < max_length:\n",
        "        data[key].extend([None] * (max_length - len(data[key])))\n",
        "\n",
        "\n",
        "df = pd.DataFrame(data)\n",
        "\n",
        "\n",
        "print(df)\n",
        "\n"
      ]
    },
    {
      "cell_type": "code",
      "execution_count": null,
      "metadata": {
        "colab": {
          "background_save": true
        },
        "id": "7yniS6B56NpX",
        "outputId": "11bee8be-2c70-4d6b-dcd8-c91fef340080"
      },
      "outputs": [
        {
          "data": {
            "text/html": [
              "<span class=\"tex2jax_ignore\"><div class=\"entities\" style=\"line-height: 2.5; direction: ltr\">Mr. ABC is a \n",
              "<mark class=\"entity\" style=\"background: #ddd; padding: 0.45em 0.6em; margin: 0 0.25em; line-height: 1; border-radius: 0.35em;\">\n",
              "    60-year-old gentleman who had a markedly abnormal\n",
              "    <span style=\"font-size: 0.8em; font-weight: bold; line-height: 1; border-radius: 0.35em; vertical-align: middle; margin-left: 0.5rem\">HISTORY</span>\n",
              "</mark>\n",
              " stress test earlier today in my office with severe \n",
              "<mark class=\"entity\" style=\"background: #ddd; padding: 0.45em 0.6em; margin: 0 0.25em; line-height: 1; border-radius: 0.35em;\">\n",
              "    chest pain\n",
              "    <span style=\"font-size: 0.8em; font-weight: bold; line-height: 1; border-radius: 0.35em; vertical-align: middle; margin-left: 0.5rem\">SYMPTOMS</span>\n",
              "</mark>\n",
              " after 5 minutes of exercise on the standard Bruce with horizontal ST depressions and moderate apical ischemia on stress imaging only. He required 3 sublingual nitroglycerin in total (please see also admission history and physical for full details). The patient underwent cardiac catheterization with myself today which showed mild-to-moderate left main distal disease of 30%, moderate proximal LAD with a severe mid-LAD lesion of 99%, and a mid-left circumflex lesion of 80% with normal LV function and some mild luminal irregularities in the right coronary artery with some moderate stenosis seen in the mid to distal right PDA. Medications: \n",
              "<mark class=\"entity\" style=\"background: #3cb44b; padding: 0.45em 0.6em; margin: 0 0.25em; line-height: 1; border-radius: 0.35em;\">\n",
              "    Aspirin\n",
              "    <span style=\"font-size: 0.8em; font-weight: bold; line-height: 1; border-radius: 0.35em; vertical-align: middle; margin-left: 0.5rem\">MEDICINE</span>\n",
              "</mark>\n",
              " \n",
              "<mark class=\"entity\" style=\"background: #ddd; padding: 0.45em 0.6em; margin: 0 0.25em; line-height: 1; border-radius: 0.35em;\">\n",
              "    325 mg\n",
              "    <span style=\"font-size: 0.8em; font-weight: bold; line-height: 1; border-radius: 0.35em; vertical-align: middle; margin-left: 0.5rem\">DOSAGE</span>\n",
              "</mark>\n",
              " once a day., \n",
              "<mark class=\"entity\" style=\"background: #3cb44b; padding: 0.45em 0.6em; margin: 0 0.25em; line-height: 1; border-radius: 0.35em;\">\n",
              "    Metoprolol\n",
              "    <span style=\"font-size: 0.8em; font-weight: bold; line-height: 1; border-radius: 0.35em; vertical-align: middle; margin-left: 0.5rem\">MEDICINE</span>\n",
              "</mark>\n",
              " \n",
              "<mark class=\"entity\" style=\"background: #ddd; padding: 0.45em 0.6em; margin: 0 0.25em; line-height: 1; border-radius: 0.35em;\">\n",
              "    50 mg once a\n",
              "    <span style=\"font-size: 0.8em; font-weight: bold; line-height: 1; border-radius: 0.35em; vertical-align: middle; margin-left: 0.5rem\">DOSAGE</span>\n",
              "</mark>\n",
              " day,  \n",
              "<mark class=\"entity\" style=\"background: #3cb44b; padding: 0.45em 0.6em; margin: 0 0.25em; line-height: 1; border-radius: 0.35em;\">\n",
              "    Nexium\n",
              "    <span style=\"font-size: 0.8em; font-weight: bold; line-height: 1; border-radius: 0.35em; vertical-align: middle; margin-left: 0.5rem\">MEDICINE</span>\n",
              "</mark>\n",
              " \n",
              "<mark class=\"entity\" style=\"background: #ddd; padding: 0.45em 0.6em; margin: 0 0.25em; line-height: 1; border-radius: 0.35em;\">\n",
              "    40 mg once a\n",
              "    <span style=\"font-size: 0.8em; font-weight: bold; line-height: 1; border-radius: 0.35em; vertical-align: middle; margin-left: 0.5rem\">DOSAGE</span>\n",
              "</mark>\n",
              " day,\n",
              "<mark class=\"entity\" style=\"background: #3cb44b; padding: 0.45em 0.6em; margin: 0 0.25em; line-height: 1; border-radius: 0.35em;\">\n",
              "    Zocor\n",
              "    <span style=\"font-size: 0.8em; font-weight: bold; line-height: 1; border-radius: 0.35em; vertical-align: middle; margin-left: 0.5rem\">MEDICINE</span>\n",
              "</mark>\n",
              " \n",
              "<mark class=\"entity\" style=\"background: #ddd; padding: 0.45em 0.6em; margin: 0 0.25em; line-height: 1; border-radius: 0.35em;\">\n",
              "    40 mg once a day,  \n",
              "    <span style=\"font-size: 0.8em; font-weight: bold; line-height: 1; border-radius: 0.35em; vertical-align: middle; margin-left: 0.5rem\">DOSAGE</span>\n",
              "</mark>\n",
              "Plavix \n",
              "<mark class=\"entity\" style=\"background: #ddd; padding: 0.45em 0.6em; margin: 0 0.25em; line-height: 1; border-radius: 0.35em;\">\n",
              "    600 mg.\n",
              "    <span style=\"font-size: 0.8em; font-weight: bold; line-height: 1; border-radius: 0.35em; vertical-align: middle; margin-left: 0.5rem\">DOSAGE</span>\n",
              "</mark>\n",
              "\r</div></span>"
            ],
            "text/plain": [
              "<IPython.core.display.HTML object>"
            ]
          },
          "metadata": {},
          "output_type": "display_data"
        }
      ],
      "source": [
        "colors={\"AGE=\":\"#F67DE3\",\"GENDER\":\"#e6194B\",\"MEDICINE\":\"#3cb44b\"}\n",
        "options={\"colors\":colors}\n",
        "spacy.displacy.render(doc, style=\"ent\",options=options, jupyter=True)"
      ]
    },
    {
      "cell_type": "code",
      "execution_count": null,
      "metadata": {
        "colab": {
          "background_save": true
        },
        "id": "7ODa77eysMzu",
        "outputId": "a7baac9f-2175-4dd5-d3ee-53b9f7b7e7af"
      },
      "outputs": [
        {
          "name": "stdout",
          "output_type": "stream",
          "text": [
            "Precision: 0.8742857142857143\n",
            "Recall: 0.8693181818181818\n",
            "F1-score: 0.8717948717948718\n"
          ]
        },
        {
          "data": {
            "image/png": "[encoded data removed]",
            "text/plain": [
              "<Figure size 1000x600 with 1 Axes>"
            ]
          },
          "metadata": {},
          "output_type": "display_data"
        }
      ],
      "source": [
        "import spacy\n",
        "from spacy.training import Example\n",
        "from spacy.scorer import Scorer\n",
        "import matplotlib.pyplot as plt\n",
        "\n",
        "nlp = spacy.load('/content/drive/MyDrive/SKILLFIT/trained_models/output/model-best')\n",
        "scorer = Scorer()\n",
        "\n",
        "examples = []\n",
        "\n",
        "for item in test:\n",
        "    if item is None:\n",
        "        continue\n",
        "\n",
        "    # Ensure item is a list with the correct structure\n",
        "    if isinstance(item, list) and len(item) == 2 and isinstance(item[0], str) and isinstance(item[1], dict):\n",
        "        text = item[0]\n",
        "        entities_dict = item[1]\n",
        "\n",
        "        if 'entities' in entities_dict:\n",
        "            entities = entities_dict['entities']\n",
        "\n",
        "            # Convert entities to the required format\n",
        "            annots = [(start, end, label) for start, end, label in entities]\n",
        "\n",
        "            predicted = nlp(text)\n",
        "\n",
        "            final = {'entities': annots}\n",
        "\n",
        "            example = Example.from_dict(predicted, final)\n",
        "            examples.append(example)\n",
        "        else:\n",
        "            print(f\"Skipping item with missing 'entities' key: {item}\")\n",
        "    else:\n",
        "        print(f\"Skipping invalid item: {item}\")\n",
        "\n",
        "# Score the examples\n",
        "scores = scorer.score(examples)\n",
        "\n",
        "# Extract overall metrics\n",
        "precision = scores[\"ents_p\"]\n",
        "recall = scores[\"ents_r\"]\n",
        "f1_score = scores[\"ents_f\"]\n",
        "\n",
        "\n",
        "print(\"Precision:\", precision)\n",
        "print(\"Recall:\", recall)\n",
        "print(\"F1-score:\", f1_score)\n",
        "\n",
        "# Check if any metric is None\n",
        "if None in [precision, recall, f1_score]:\n",
        "    print(\"Warning: One or more metrics is None. Check the evaluation process.\")\n",
        "\n",
        "if None not in [precision, recall, f1_score]:\n",
        "    metrics = [precision, recall, f1_score]\n",
        "    metrics_names = [\"Precision\", \"Recall\", \"F1-score\"]\n",
        "\n",
        "    plt.figure(figsize=(10, 6))\n",
        "    plt.bar(metrics_names, metrics, color=['blue', 'green', 'red'])\n",
        "    plt.xlabel('Metrics')\n",
        "    plt.ylabel('Scores')\n",
        "    plt.title('Custom NER Model Performance Metrics')\n",
        "    plt.ylim(0, 1)\n",
        "    for index, value in enumerate(metrics):\n",
        "        plt.text(index, value, f\"{value:.2f}\", ha='center', va='bottom')\n",
        "    plt.show()\n",
        "else:\n",
        "    print(\"Cannot plot metrics because one or more metrics is None.\")\n"
      ]
    },
    {
      "cell_type": "code",
      "execution_count": null,
      "metadata": {
        "colab": {
          "background_save": true
        },
        "id": "PEjYu9DVkMVJ",
        "outputId": "4bf49265-59e0-4f06-fe04-02e32300786b"
      },
      "outputs": [
        {
          "name": "stdout",
          "output_type": "stream",
          "text": [
            "Collecting en-core-med7-trf==any\n",
            "  Downloading https://huggingface.co/kormilitzin/en_core_med7_trf/resolve/main/en_core_med7_trf-any-py3-none-any.whl (1018.9 MB)\n",
            "\u001b[2K     \u001b[90m━━━━━━━━━━━━━━━━━━━━━━━━━━━━━━━━━━━━━━━━\u001b[0m \u001b[32m1.0/1.0 GB\u001b[0m \u001b[31m745.5 kB/s\u001b[0m eta \u001b[36m0:00:00\u001b[0m\n",
            "\u001b[?25hCollecting spacy<3.5.0,>=3.4.2 (from en-core-med7-trf==any)\n",
            "  Using cached spacy-3.4.4-cp310-cp310-manylinux_2_17_x86_64.manylinux2014_x86_64.whl (6.5 MB)\n",
            "Requirement already satisfied: spacy-transformers<1.2.0,>=1.1.6 in /usr/local/lib/python3.10/dist-packages (from en-core-med7-trf==any) (1.1.9)\n",
            "Requirement already satisfied: spacy-legacy<3.1.0,>=3.0.10 in /usr/local/lib/python3.10/dist-packages (from spacy<3.5.0,>=3.4.2->en-core-med7-trf==any) (3.0.12)\n",
            "Requirement already satisfied: spacy-loggers<2.0.0,>=1.0.0 in /usr/local/lib/python3.10/dist-packages (from spacy<3.5.0,>=3.4.2->en-core-med7-trf==any) (1.0.5)\n",
            "Requirement already satisfied: murmurhash<1.1.0,>=0.28.0 in /usr/local/lib/python3.10/dist-packages (from spacy<3.5.0,>=3.4.2->en-core-med7-trf==any) (1.0.10)\n",
            "Requirement already satisfied: cymem<2.1.0,>=2.0.2 in /usr/local/lib/python3.10/dist-packages (from spacy<3.5.0,>=3.4.2->en-core-med7-trf==any) (2.0.8)\n",
            "Requirement already satisfied: preshed<3.1.0,>=3.0.2 in /usr/local/lib/python3.10/dist-packages (from spacy<3.5.0,>=3.4.2->en-core-med7-trf==any) (3.0.9)\n",
            "Collecting thinc<8.2.0,>=8.1.0 (from spacy<3.5.0,>=3.4.2->en-core-med7-trf==any)\n",
            "  Using cached thinc-8.1.12-cp310-cp310-manylinux_2_17_x86_64.manylinux2014_x86_64.whl (919 kB)\n",
            "Requirement already satisfied: wasabi<1.1.0,>=0.9.1 in /usr/local/lib/python3.10/dist-packages (from spacy<3.5.0,>=3.4.2->en-core-med7-trf==any) (0.10.1)\n",
            "Requirement already satisfied: srsly<3.0.0,>=2.4.3 in /usr/local/lib/python3.10/dist-packages (from spacy<3.5.0,>=3.4.2->en-core-med7-trf==any) (2.4.8)\n",
            "Requirement already satisfied: catalogue<2.1.0,>=2.0.6 in /usr/local/lib/python3.10/dist-packages (from spacy<3.5.0,>=3.4.2->en-core-med7-trf==any) (2.0.10)\n",
            "Requirement already satisfied: typer<0.8.0,>=0.3.0 in /usr/local/lib/python3.10/dist-packages (from spacy<3.5.0,>=3.4.2->en-core-med7-trf==any) (0.7.0)\n",
            "Requirement already satisfied: pathy>=0.3.5 in /usr/local/lib/python3.10/dist-packages (from spacy<3.5.0,>=3.4.2->en-core-med7-trf==any) (0.11.0)\n",
            "Requirement already satisfied: smart-open<7.0.0,>=5.2.1 in /usr/local/lib/python3.10/dist-packages (from spacy<3.5.0,>=3.4.2->en-core-med7-trf==any) (6.4.0)\n",
            "Requirement already satisfied: tqdm<5.0.0,>=4.38.0 in /usr/local/lib/python3.10/dist-packages (from spacy<3.5.0,>=3.4.2->en-core-med7-trf==any) (4.66.4)\n",
            "Requirement already satisfied: numpy>=1.15.0 in /usr/local/lib/python3.10/dist-packages (from spacy<3.5.0,>=3.4.2->en-core-med7-trf==any) (1.25.2)\n",
            "Requirement already satisfied: requests<3.0.0,>=2.13.0 in /usr/local/lib/python3.10/dist-packages (from spacy<3.5.0,>=3.4.2->en-core-med7-trf==any) (2.31.0)\n",
            "Requirement already satisfied: pydantic!=1.8,!=1.8.1,<1.11.0,>=1.7.4 in /usr/local/lib/python3.10/dist-packages (from spacy<3.5.0,>=3.4.2->en-core-med7-trf==any) (1.10.16)\n",
            "Requirement already satisfied: jinja2 in /usr/local/lib/python3.10/dist-packages (from spacy<3.5.0,>=3.4.2->en-core-med7-trf==any) (3.1.4)\n",
            "Requirement already satisfied: setuptools in /usr/local/lib/python3.10/dist-packages (from spacy<3.5.0,>=3.4.2->en-core-med7-trf==any) (67.7.2)\n",
            "Requirement already satisfied: packaging>=20.0 in /usr/local/lib/python3.10/dist-packages (from spacy<3.5.0,>=3.4.2->en-core-med7-trf==any) (24.1)\n",
            "Requirement already satisfied: langcodes<4.0.0,>=3.2.0 in /usr/local/lib/python3.10/dist-packages (from spacy<3.5.0,>=3.4.2->en-core-med7-trf==any) (3.4.0)\n",
            "Requirement already satisfied: transformers<4.26.0,>=3.4.0 in /usr/local/lib/python3.10/dist-packages (from spacy-transformers<1.2.0,>=1.1.6->en-core-med7-trf==any) (4.25.1)\n",
            "Requirement already satisfied: torch>=1.6.0 in /usr/local/lib/python3.10/dist-packages (from spacy-transformers<1.2.0,>=1.1.6->en-core-med7-trf==any) (2.3.0+cu121)\n",
            "Requirement already satisfied: spacy-alignments<1.0.0,>=0.7.2 in /usr/local/lib/python3.10/dist-packages (from spacy-transformers<1.2.0,>=1.1.6->en-core-med7-trf==any) (0.9.1)\n",
            "Requirement already satisfied: language-data>=1.2 in /usr/local/lib/python3.10/dist-packages (from langcodes<4.0.0,>=3.2.0->spacy<3.5.0,>=3.4.2->en-core-med7-trf==any) (1.2.0)\n",
            "Requirement already satisfied: pathlib-abc==0.1.1 in /usr/local/lib/python3.10/dist-packages (from pathy>=0.3.5->spacy<3.5.0,>=3.4.2->en-core-med7-trf==any) (0.1.1)\n",
            "Requirement already satisfied: typing-extensions>=4.2.0 in /usr/local/lib/python3.10/dist-packages (from pydantic!=1.8,!=1.8.1,<1.11.0,>=1.7.4->spacy<3.5.0,>=3.4.2->en-core-med7-trf==any) (4.12.2)\n",
            "Requirement already satisfied: charset-normalizer<4,>=2 in /usr/local/lib/python3.10/dist-packages (from requests<3.0.0,>=2.13.0->spacy<3.5.0,>=3.4.2->en-core-med7-trf==any) (3.3.2)\n",
            "Requirement already satisfied: idna<4,>=2.5 in /usr/local/lib/python3.10/dist-packages (from requests<3.0.0,>=2.13.0->spacy<3.5.0,>=3.4.2->en-core-med7-trf==any) (3.7)\n",
            "Requirement already satisfied: urllib3<3,>=1.21.1 in /usr/local/lib/python3.10/dist-packages (from requests<3.0.0,>=2.13.0->spacy<3.5.0,>=3.4.2->en-core-med7-trf==any) (2.0.7)\n",
            "Requirement already satisfied: certifi>=2017.4.17 in /usr/local/lib/python3.10/dist-packages (from requests<3.0.0,>=2.13.0->spacy<3.5.0,>=3.4.2->en-core-med7-trf==any) (2024.6.2)\n",
            "Requirement already satisfied: blis<0.8.0,>=0.7.8 in /usr/local/lib/python3.10/dist-packages (from thinc<8.2.0,>=8.1.0->spacy<3.5.0,>=3.4.2->en-core-med7-trf==any) (0.7.11)\n",
            "Requirement already satisfied: confection<1.0.0,>=0.0.1 in /usr/local/lib/python3.10/dist-packages (from thinc<8.2.0,>=8.1.0->spacy<3.5.0,>=3.4.2->en-core-med7-trf==any) (0.1.5)\n",
            "Requirement already satisfied: filelock in /usr/local/lib/python3.10/dist-packages (from torch>=1.6.0->spacy-transformers<1.2.0,>=1.1.6->en-core-med7-trf==any) (3.14.0)\n",
            "Requirement already satisfied: sympy in /usr/local/lib/python3.10/dist-packages (from torch>=1.6.0->spacy-transformers<1.2.0,>=1.1.6->en-core-med7-trf==any) (1.12.1)\n",
            "Requirement already satisfied: networkx in /usr/local/lib/python3.10/dist-packages (from torch>=1.6.0->spacy-transformers<1.2.0,>=1.1.6->en-core-med7-trf==any) (3.3)\n",
            "Requirement already satisfied: fsspec in /usr/local/lib/python3.10/dist-packages (from torch>=1.6.0->spacy-transformers<1.2.0,>=1.1.6->en-core-med7-trf==any) (2023.6.0)\n",
            "Requirement already satisfied: nvidia-cuda-nvrtc-cu12==12.1.105 in /usr/local/lib/python3.10/dist-packages (from torch>=1.6.0->spacy-transformers<1.2.0,>=1.1.6->en-core-med7-trf==any) (12.1.105)\n",
            "Requirement already satisfied: nvidia-cuda-runtime-cu12==12.1.105 in /usr/local/lib/python3.10/dist-packages (from torch>=1.6.0->spacy-transformers<1.2.0,>=1.1.6->en-core-med7-trf==any) (12.1.105)\n",
            "Requirement already satisfied: nvidia-cuda-cupti-cu12==12.1.105 in /usr/local/lib/python3.10/dist-packages (from torch>=1.6.0->spacy-transformers<1.2.0,>=1.1.6->en-core-med7-trf==any) (12.1.105)\n",
            "Requirement already satisfied: nvidia-cudnn-cu12==8.9.2.26 in /usr/local/lib/python3.10/dist-packages (from torch>=1.6.0->spacy-transformers<1.2.0,>=1.1.6->en-core-med7-trf==any) (8.9.2.26)\n",
            "Requirement already satisfied: nvidia-cublas-cu12==12.1.3.1 in /usr/local/lib/python3.10/dist-packages (from torch>=1.6.0->spacy-transformers<1.2.0,>=1.1.6->en-core-med7-trf==any) (12.1.3.1)\n",
            "Requirement already satisfied: nvidia-cufft-cu12==11.0.2.54 in /usr/local/lib/python3.10/dist-packages (from torch>=1.6.0->spacy-transformers<1.2.0,>=1.1.6->en-core-med7-trf==any) (11.0.2.54)\n",
            "Requirement already satisfied: nvidia-curand-cu12==10.3.2.106 in /usr/local/lib/python3.10/dist-packages (from torch>=1.6.0->spacy-transformers<1.2.0,>=1.1.6->en-core-med7-trf==any) (10.3.2.106)\n",
            "Requirement already satisfied: nvidia-cusolver-cu12==11.4.5.107 in /usr/local/lib/python3.10/dist-packages (from torch>=1.6.0->spacy-transformers<1.2.0,>=1.1.6->en-core-med7-trf==any) (11.4.5.107)\n",
            "Requirement already satisfied: nvidia-cusparse-cu12==12.1.0.106 in /usr/local/lib/python3.10/dist-packages (from torch>=1.6.0->spacy-transformers<1.2.0,>=1.1.6->en-core-med7-trf==any) (12.1.0.106)\n",
            "Requirement already satisfied: nvidia-nccl-cu12==2.20.5 in /usr/local/lib/python3.10/dist-packages (from torch>=1.6.0->spacy-transformers<1.2.0,>=1.1.6->en-core-med7-trf==any) (2.20.5)\n",
            "Requirement already satisfied: nvidia-nvtx-cu12==12.1.105 in /usr/local/lib/python3.10/dist-packages (from torch>=1.6.0->spacy-transformers<1.2.0,>=1.1.6->en-core-med7-trf==any) (12.1.105)\n",
            "Requirement already satisfied: triton==2.3.0 in /usr/local/lib/python3.10/dist-packages (from torch>=1.6.0->spacy-transformers<1.2.0,>=1.1.6->en-core-med7-trf==any) (2.3.0)\n",
            "Requirement already satisfied: nvidia-nvjitlink-cu12 in /usr/local/lib/python3.10/dist-packages (from nvidia-cusolver-cu12==11.4.5.107->torch>=1.6.0->spacy-transformers<1.2.0,>=1.1.6->en-core-med7-trf==any) (12.5.40)\n",
            "Requirement already satisfied: huggingface-hub<1.0,>=0.10.0 in /usr/local/lib/python3.10/dist-packages (from transformers<4.26.0,>=3.4.0->spacy-transformers<1.2.0,>=1.1.6->en-core-med7-trf==any) (0.23.3)\n",
            "Requirement already satisfied: pyyaml>=5.1 in /usr/local/lib/python3.10/dist-packages (from transformers<4.26.0,>=3.4.0->spacy-transformers<1.2.0,>=1.1.6->en-core-med7-trf==any) (6.0.1)\n",
            "Requirement already satisfied: regex!=2019.12.17 in /usr/local/lib/python3.10/dist-packages (from transformers<4.26.0,>=3.4.0->spacy-transformers<1.2.0,>=1.1.6->en-core-med7-trf==any) (2024.5.15)\n",
            "Requirement already satisfied: tokenizers!=0.11.3,<0.14,>=0.11.1 in /usr/local/lib/python3.10/dist-packages (from transformers<4.26.0,>=3.4.0->spacy-transformers<1.2.0,>=1.1.6->en-core-med7-trf==any) (0.13.3)\n",
            "Requirement already satisfied: click<9.0.0,>=7.1.1 in /usr/local/lib/python3.10/dist-packages (from typer<0.8.0,>=0.3.0->spacy<3.5.0,>=3.4.2->en-core-med7-trf==any) (8.1.7)\n",
            "Requirement already satisfied: MarkupSafe>=2.0 in /usr/local/lib/python3.10/dist-packages (from jinja2->spacy<3.5.0,>=3.4.2->en-core-med7-trf==any) (2.1.5)\n",
            "Requirement already satisfied: marisa-trie>=0.7.7 in /usr/local/lib/python3.10/dist-packages (from language-data>=1.2->langcodes<4.0.0,>=3.2.0->spacy<3.5.0,>=3.4.2->en-core-med7-trf==any) (1.2.0)\n",
            "Requirement already satisfied: mpmath<1.4.0,>=1.1.0 in /usr/local/lib/python3.10/dist-packages (from sympy->torch>=1.6.0->spacy-transformers<1.2.0,>=1.1.6->en-core-med7-trf==any) (1.3.0)\n",
            "Installing collected packages: thinc, spacy\n",
            "  Attempting uninstall: thinc\n",
            "    Found existing installation: thinc 8.2.4\n",
            "    Uninstalling thinc-8.2.4:\n",
            "      Successfully uninstalled thinc-8.2.4\n",
            "  Attempting uninstall: spacy\n",
            "    Found existing installation: spacy 3.7.5\n",
            "    Uninstalling spacy-3.7.5:\n",
            "      Successfully uninstalled spacy-3.7.5\n",
            "\u001b[31mERROR: pip's dependency resolver does not currently take into account all the packages that are installed. This behaviour is the source of the following dependency conflicts.\n",
            "en-core-web-sm 3.7.1 requires spacy<3.8.0,>=3.7.2, but you have spacy 3.4.4 which is incompatible.\u001b[0m\u001b[31m\n",
            "\u001b[0mSuccessfully installed spacy-3.4.4 thinc-8.1.12\n"
          ]
        },
        {
          "data": {
            "application/vnd.colab-display-data+json": {
              "id": "4b665f54b5944fb9afaab92f2fd2b488",
              "pip_warning": {
                "packages": [
                  "spacy",
                  "thinc"
                ]
              }
            }
          },
          "metadata": {},
          "output_type": "display_data"
        }
      ],
      "source": [
        "pip install https://huggingface.co/kormilitzin/en_core_med7_trf/resolve/main/en_core_med7_trf-any-py3-none-any.whl\n"
      ]
    },
    {
      "cell_type": "code",
      "execution_count": null,
      "metadata": {
        "colab": {
          "background_save": true
        },
        "id": "mWzyYJnQW6h9",
        "outputId": "8d4eefe8-31a6-4043-f85b-5464d7f89051"
      },
      "outputs": [
        {
          "name": "stdout",
          "output_type": "stream",
          "text": [
            "Requirement already satisfied: spacy-transformers in /usr/local/lib/python3.10/dist-packages (1.1.9)\n",
            "Requirement already satisfied: spacy<4.0.0,>=3.4.0 in /usr/local/lib/python3.10/dist-packages (from spacy-transformers) (3.4.4)\n",
            "Requirement already satisfied: transformers<4.26.0,>=3.4.0 in /usr/local/lib/python3.10/dist-packages (from spacy-transformers) (4.25.1)\n",
            "Requirement already satisfied: torch>=1.6.0 in /usr/local/lib/python3.10/dist-packages (from spacy-transformers) (2.3.0+cu121)\n",
            "Requirement already satisfied: srsly<3.0.0,>=2.4.0 in /usr/local/lib/python3.10/dist-packages (from spacy-transformers) (2.4.8)\n",
            "Requirement already satisfied: spacy-alignments<1.0.0,>=0.7.2 in /usr/local/lib/python3.10/dist-packages (from spacy-transformers) (0.9.1)\n",
            "Requirement already satisfied: spacy-legacy<3.1.0,>=3.0.10 in /usr/local/lib/python3.10/dist-packages (from spacy<4.0.0,>=3.4.0->spacy-transformers) (3.0.12)\n",
            "Requirement already satisfied: spacy-loggers<2.0.0,>=1.0.0 in /usr/local/lib/python3.10/dist-packages (from spacy<4.0.0,>=3.4.0->spacy-transformers) (1.0.5)\n",
            "Requirement already satisfied: murmurhash<1.1.0,>=0.28.0 in /usr/local/lib/python3.10/dist-packages (from spacy<4.0.0,>=3.4.0->spacy-transformers) (1.0.10)\n",
            "Requirement already satisfied: cymem<2.1.0,>=2.0.2 in /usr/local/lib/python3.10/dist-packages (from spacy<4.0.0,>=3.4.0->spacy-transformers) (2.0.8)\n",
            "Requirement already satisfied: preshed<3.1.0,>=3.0.2 in /usr/local/lib/python3.10/dist-packages (from spacy<4.0.0,>=3.4.0->spacy-transformers) (3.0.9)\n",
            "Requirement already satisfied: thinc<8.2.0,>=8.1.0 in /usr/local/lib/python3.10/dist-packages (from spacy<4.0.0,>=3.4.0->spacy-transformers) (8.1.12)\n",
            "Requirement already satisfied: wasabi<1.1.0,>=0.9.1 in /usr/local/lib/python3.10/dist-packages (from spacy<4.0.0,>=3.4.0->spacy-transformers) (0.10.1)\n",
            "Requirement already satisfied: catalogue<2.1.0,>=2.0.6 in /usr/local/lib/python3.10/dist-packages (from spacy<4.0.0,>=3.4.0->spacy-transformers) (2.0.10)\n",
            "Requirement already satisfied: typer<0.8.0,>=0.3.0 in /usr/local/lib/python3.10/dist-packages (from spacy<4.0.0,>=3.4.0->spacy-transformers) (0.7.0)\n",
            "Requirement already satisfied: pathy>=0.3.5 in /usr/local/lib/python3.10/dist-packages (from spacy<4.0.0,>=3.4.0->spacy-transformers) (0.11.0)\n",
            "Requirement already satisfied: smart-open<7.0.0,>=5.2.1 in /usr/local/lib/python3.10/dist-packages (from spacy<4.0.0,>=3.4.0->spacy-transformers) (6.4.0)\n",
            "Requirement already satisfied: tqdm<5.0.0,>=4.38.0 in /usr/local/lib/python3.10/dist-packages (from spacy<4.0.0,>=3.4.0->spacy-transformers) (4.66.4)\n",
            "Requirement already satisfied: numpy>=1.15.0 in /usr/local/lib/python3.10/dist-packages (from spacy<4.0.0,>=3.4.0->spacy-transformers) (1.25.2)\n",
            "Requirement already satisfied: requests<3.0.0,>=2.13.0 in /usr/local/lib/python3.10/dist-packages (from spacy<4.0.0,>=3.4.0->spacy-transformers) (2.31.0)\n",
            "Requirement already satisfied: pydantic!=1.8,!=1.8.1,<1.11.0,>=1.7.4 in /usr/local/lib/python3.10/dist-packages (from spacy<4.0.0,>=3.4.0->spacy-transformers) (1.10.16)\n",
            "Requirement already satisfied: jinja2 in /usr/local/lib/python3.10/dist-packages (from spacy<4.0.0,>=3.4.0->spacy-transformers) (3.1.4)\n",
            "Requirement already satisfied: setuptools in /usr/local/lib/python3.10/dist-packages (from spacy<4.0.0,>=3.4.0->spacy-transformers) (67.7.2)\n",
            "Requirement already satisfied: packaging>=20.0 in /usr/local/lib/python3.10/dist-packages (from spacy<4.0.0,>=3.4.0->spacy-transformers) (24.1)\n",
            "Requirement already satisfied: langcodes<4.0.0,>=3.2.0 in /usr/local/lib/python3.10/dist-packages (from spacy<4.0.0,>=3.4.0->spacy-transformers) (3.4.0)\n",
            "Requirement already satisfied: filelock in /usr/local/lib/python3.10/dist-packages (from torch>=1.6.0->spacy-transformers) (3.14.0)\n",
            "Requirement already satisfied: typing-extensions>=4.8.0 in /usr/local/lib/python3.10/dist-packages (from torch>=1.6.0->spacy-transformers) (4.12.2)\n",
            "Requirement already satisfied: sympy in /usr/local/lib/python3.10/dist-packages (from torch>=1.6.0->spacy-transformers) (1.12.1)\n",
            "Requirement already satisfied: networkx in /usr/local/lib/python3.10/dist-packages (from torch>=1.6.0->spacy-transformers) (3.3)\n",
            "Requirement already satisfied: fsspec in /usr/local/lib/python3.10/dist-packages (from torch>=1.6.0->spacy-transformers) (2023.6.0)\n",
            "Requirement already satisfied: nvidia-cuda-nvrtc-cu12==12.1.105 in /usr/local/lib/python3.10/dist-packages (from torch>=1.6.0->spacy-transformers) (12.1.105)\n",
            "Requirement already satisfied: nvidia-cuda-runtime-cu12==12.1.105 in /usr/local/lib/python3.10/dist-packages (from torch>=1.6.0->spacy-transformers) (12.1.105)\n",
            "Requirement already satisfied: nvidia-cuda-cupti-cu12==12.1.105 in /usr/local/lib/python3.10/dist-packages (from torch>=1.6.0->spacy-transformers) (12.1.105)\n",
            "Requirement already satisfied: nvidia-cudnn-cu12==8.9.2.26 in /usr/local/lib/python3.10/dist-packages (from torch>=1.6.0->spacy-transformers) (8.9.2.26)\n",
            "Requirement already satisfied: nvidia-cublas-cu12==12.1.3.1 in /usr/local/lib/python3.10/dist-packages (from torch>=1.6.0->spacy-transformers) (12.1.3.1)\n",
            "Requirement already satisfied: nvidia-cufft-cu12==11.0.2.54 in /usr/local/lib/python3.10/dist-packages (from torch>=1.6.0->spacy-transformers) (11.0.2.54)\n",
            "Requirement already satisfied: nvidia-curand-cu12==10.3.2.106 in /usr/local/lib/python3.10/dist-packages (from torch>=1.6.0->spacy-transformers) (10.3.2.106)\n",
            "Requirement already satisfied: nvidia-cusolver-cu12==11.4.5.107 in /usr/local/lib/python3.10/dist-packages (from torch>=1.6.0->spacy-transformers) (11.4.5.107)\n",
            "Requirement already satisfied: nvidia-cusparse-cu12==12.1.0.106 in /usr/local/lib/python3.10/dist-packages (from torch>=1.6.0->spacy-transformers) (12.1.0.106)\n",
            "Requirement already satisfied: nvidia-nccl-cu12==2.20.5 in /usr/local/lib/python3.10/dist-packages (from torch>=1.6.0->spacy-transformers) (2.20.5)\n",
            "Requirement already satisfied: nvidia-nvtx-cu12==12.1.105 in /usr/local/lib/python3.10/dist-packages (from torch>=1.6.0->spacy-transformers) (12.1.105)\n",
            "Requirement already satisfied: triton==2.3.0 in /usr/local/lib/python3.10/dist-packages (from torch>=1.6.0->spacy-transformers) (2.3.0)\n",
            "Requirement already satisfied: nvidia-nvjitlink-cu12 in /usr/local/lib/python3.10/dist-packages (from nvidia-cusolver-cu12==11.4.5.107->torch>=1.6.0->spacy-transformers) (12.5.40)\n",
            "Requirement already satisfied: huggingface-hub<1.0,>=0.10.0 in /usr/local/lib/python3.10/dist-packages (from transformers<4.26.0,>=3.4.0->spacy-transformers) (0.23.3)\n",
            "Requirement already satisfied: pyyaml>=5.1 in /usr/local/lib/python3.10/dist-packages (from transformers<4.26.0,>=3.4.0->spacy-transformers) (6.0.1)\n",
            "Requirement already satisfied: regex!=2019.12.17 in /usr/local/lib/python3.10/dist-packages (from transformers<4.26.0,>=3.4.0->spacy-transformers) (2024.5.15)\n",
            "Requirement already satisfied: tokenizers!=0.11.3,<0.14,>=0.11.1 in /usr/local/lib/python3.10/dist-packages (from transformers<4.26.0,>=3.4.0->spacy-transformers) (0.13.3)\n",
            "Requirement already satisfied: language-data>=1.2 in /usr/local/lib/python3.10/dist-packages (from langcodes<4.0.0,>=3.2.0->spacy<4.0.0,>=3.4.0->spacy-transformers) (1.2.0)\n",
            "Requirement already satisfied: pathlib-abc==0.1.1 in /usr/local/lib/python3.10/dist-packages (from pathy>=0.3.5->spacy<4.0.0,>=3.4.0->spacy-transformers) (0.1.1)\n",
            "Requirement already satisfied: charset-normalizer<4,>=2 in /usr/local/lib/python3.10/dist-packages (from requests<3.0.0,>=2.13.0->spacy<4.0.0,>=3.4.0->spacy-transformers) (3.3.2)\n",
            "Requirement already satisfied: idna<4,>=2.5 in /usr/local/lib/python3.10/dist-packages (from requests<3.0.0,>=2.13.0->spacy<4.0.0,>=3.4.0->spacy-transformers) (3.7)\n",
            "Requirement already satisfied: urllib3<3,>=1.21.1 in /usr/local/lib/python3.10/dist-packages (from requests<3.0.0,>=2.13.0->spacy<4.0.0,>=3.4.0->spacy-transformers) (2.0.7)\n",
            "Requirement already satisfied: certifi>=2017.4.17 in /usr/local/lib/python3.10/dist-packages (from requests<3.0.0,>=2.13.0->spacy<4.0.0,>=3.4.0->spacy-transformers) (2024.6.2)\n",
            "Requirement already satisfied: blis<0.8.0,>=0.7.8 in /usr/local/lib/python3.10/dist-packages (from thinc<8.2.0,>=8.1.0->spacy<4.0.0,>=3.4.0->spacy-transformers) (0.7.11)\n",
            "Requirement already satisfied: confection<1.0.0,>=0.0.1 in /usr/local/lib/python3.10/dist-packages (from thinc<8.2.0,>=8.1.0->spacy<4.0.0,>=3.4.0->spacy-transformers) (0.1.5)\n",
            "Requirement already satisfied: click<9.0.0,>=7.1.1 in /usr/local/lib/python3.10/dist-packages (from typer<0.8.0,>=0.3.0->spacy<4.0.0,>=3.4.0->spacy-transformers) (8.1.7)\n",
            "Requirement already satisfied: MarkupSafe>=2.0 in /usr/local/lib/python3.10/dist-packages (from jinja2->spacy<4.0.0,>=3.4.0->spacy-transformers) (2.1.5)\n",
            "Requirement already satisfied: mpmath<1.4.0,>=1.1.0 in /usr/local/lib/python3.10/dist-packages (from sympy->torch>=1.6.0->spacy-transformers) (1.3.0)\n",
            "Requirement already satisfied: marisa-trie>=0.7.7 in /usr/local/lib/python3.10/dist-packages (from language-data>=1.2->langcodes<4.0.0,>=3.2.0->spacy<4.0.0,>=3.4.0->spacy-transformers) (1.2.0)\n"
          ]
        }
      ],
      "source": [
        "pip install spacy-transformers\n"
      ]
    },
    {
      "cell_type": "code",
      "execution_count": null,
      "metadata": {
        "colab": {
          "background_save": true
        },
        "id": "1mAqAEQbXeT0",
        "outputId": "2f7e2193-a489-4d1b-b21e-087ed959e3ad"
      },
      "outputs": [
        {
          "name": "stdout",
          "output_type": "stream",
          "text": [
            "2024-06-16 18:09:13.339781: E external/local_xla/xla/stream_executor/cuda/cuda_dnn.cc:9261] Unable to register cuDNN factory: Attempting to register factory for plugin cuDNN when one has already been registered\n",
            "2024-06-16 18:09:13.339841: E external/local_xla/xla/stream_executor/cuda/cuda_fft.cc:607] Unable to register cuFFT factory: Attempting to register factory for plugin cuFFT when one has already been registered\n",
            "2024-06-16 18:09:13.341896: E external/local_xla/xla/stream_executor/cuda/cuda_blas.cc:1515] Unable to register cuBLAS factory: Attempting to register factory for plugin cuBLAS when one has already been registered\n",
            "2024-06-16 18:09:13.352721: I tensorflow/core/platform/cpu_feature_guard.cc:182] This TensorFlow binary is optimized to use available CPU instructions in performance-critical operations.\n",
            "To enable the following instructions: AVX2 AVX512F FMA, in other operations, rebuild TensorFlow with the appropriate compiler flags.\n",
            "2024-06-16 18:09:14.833143: W tensorflow/compiler/tf2tensorrt/utils/py_utils.cc:38] TF-TRT Warning: Could not find TensorRT\n",
            "2024-06-16 18:09:17.228328: I external/local_xla/xla/stream_executor/cuda/cuda_executor.cc:901] successful NUMA node read from SysFS had negative value (-1), but there must be at least one NUMA node, so returning NUMA node zero. See more at https://github.com/torvalds/linux/blob/v6.0/Documentation/ABI/testing/sysfs-bus-pci#L344-L355\n",
            "2024-06-16 18:09:17.228751: I external/local_xla/xla/stream_executor/cuda/cuda_executor.cc:901] successful NUMA node read from SysFS had negative value (-1), but there must be at least one NUMA node, so returning NUMA node zero. See more at https://github.com/torvalds/linux/blob/v6.0/Documentation/ABI/testing/sysfs-bus-pci#L344-L355\n",
            "2024-06-16 18:09:17.228964: I external/local_xla/xla/stream_executor/cuda/cuda_executor.cc:901] successful NUMA node read from SysFS had negative value (-1), but there must be at least one NUMA node, so returning NUMA node zero. See more at https://github.com/torvalds/linux/blob/v6.0/Documentation/ABI/testing/sysfs-bus-pci#L344-L355\n",
            "Collecting en-core-web-trf==3.4.1\n",
            "  Downloading https://github.com/explosion/spacy-models/releases/download/en_core_web_trf-3.4.1/en_core_web_trf-3.4.1-py3-none-any.whl (460.3 MB)\n",
            "\u001b[2K     \u001b[90m━━━━━━━━━━━━━━━━━━━━━━━━━━━━━━━━━━━━━━━━\u001b[0m \u001b[32m460.3/460.3 MB\u001b[0m \u001b[31m2.2 MB/s\u001b[0m eta \u001b[36m0:00:00\u001b[0m\n",
            "\u001b[?25hRequirement already satisfied: spacy<3.5.0,>=3.4.1 in /usr/local/lib/python3.10/dist-packages (from en-core-web-trf==3.4.1) (3.4.4)\n",
            "Requirement already satisfied: spacy-transformers<1.2.0,>=1.1.2 in /usr/local/lib/python3.10/dist-packages (from en-core-web-trf==3.4.1) (1.1.9)\n",
            "Requirement already satisfied: spacy-legacy<3.1.0,>=3.0.10 in /usr/local/lib/python3.10/dist-packages (from spacy<3.5.0,>=3.4.1->en-core-web-trf==3.4.1) (3.0.12)\n",
            "Requirement already satisfied: spacy-loggers<2.0.0,>=1.0.0 in /usr/local/lib/python3.10/dist-packages (from spacy<3.5.0,>=3.4.1->en-core-web-trf==3.4.1) (1.0.5)\n",
            "Requirement already satisfied: murmurhash<1.1.0,>=0.28.0 in /usr/local/lib/python3.10/dist-packages (from spacy<3.5.0,>=3.4.1->en-core-web-trf==3.4.1) (1.0.10)\n",
            "Requirement already satisfied: cymem<2.1.0,>=2.0.2 in /usr/local/lib/python3.10/dist-packages (from spacy<3.5.0,>=3.4.1->en-core-web-trf==3.4.1) (2.0.8)\n",
            "Requirement already satisfied: preshed<3.1.0,>=3.0.2 in /usr/local/lib/python3.10/dist-packages (from spacy<3.5.0,>=3.4.1->en-core-web-trf==3.4.1) (3.0.9)\n",
            "Requirement already satisfied: thinc<8.2.0,>=8.1.0 in /usr/local/lib/python3.10/dist-packages (from spacy<3.5.0,>=3.4.1->en-core-web-trf==3.4.1) (8.1.12)\n",
            "Requirement already satisfied: wasabi<1.1.0,>=0.9.1 in /usr/local/lib/python3.10/dist-packages (from spacy<3.5.0,>=3.4.1->en-core-web-trf==3.4.1) (0.10.1)\n",
            "Requirement already satisfied: srsly<3.0.0,>=2.4.3 in /usr/local/lib/python3.10/dist-packages (from spacy<3.5.0,>=3.4.1->en-core-web-trf==3.4.1) (2.4.8)\n",
            "Requirement already satisfied: catalogue<2.1.0,>=2.0.6 in /usr/local/lib/python3.10/dist-packages (from spacy<3.5.0,>=3.4.1->en-core-web-trf==3.4.1) (2.0.10)\n",
            "Requirement already satisfied: typer<0.8.0,>=0.3.0 in /usr/local/lib/python3.10/dist-packages (from spacy<3.5.0,>=3.4.1->en-core-web-trf==3.4.1) (0.7.0)\n",
            "Requirement already satisfied: pathy>=0.3.5 in /usr/local/lib/python3.10/dist-packages (from spacy<3.5.0,>=3.4.1->en-core-web-trf==3.4.1) (0.11.0)\n",
            "Requirement already satisfied: smart-open<7.0.0,>=5.2.1 in /usr/local/lib/python3.10/dist-packages (from spacy<3.5.0,>=3.4.1->en-core-web-trf==3.4.1) (6.4.0)\n",
            "Requirement already satisfied: tqdm<5.0.0,>=4.38.0 in /usr/local/lib/python3.10/dist-packages (from spacy<3.5.0,>=3.4.1->en-core-web-trf==3.4.1) (4.66.4)\n",
            "Requirement already satisfied: numpy>=1.15.0 in /usr/local/lib/python3.10/dist-packages (from spacy<3.5.0,>=3.4.1->en-core-web-trf==3.4.1) (1.25.2)\n",
            "Requirement already satisfied: requests<3.0.0,>=2.13.0 in /usr/local/lib/python3.10/dist-packages (from spacy<3.5.0,>=3.4.1->en-core-web-trf==3.4.1) (2.31.0)\n",
            "Requirement already satisfied: pydantic!=1.8,!=1.8.1,<1.11.0,>=1.7.4 in /usr/local/lib/python3.10/dist-packages (from spacy<3.5.0,>=3.4.1->en-core-web-trf==3.4.1) (1.10.16)\n",
            "Requirement already satisfied: jinja2 in /usr/local/lib/python3.10/dist-packages (from spacy<3.5.0,>=3.4.1->en-core-web-trf==3.4.1) (3.1.4)\n",
            "Requirement already satisfied: setuptools in /usr/local/lib/python3.10/dist-packages (from spacy<3.5.0,>=3.4.1->en-core-web-trf==3.4.1) (67.7.2)\n",
            "Requirement already satisfied: packaging>=20.0 in /usr/local/lib/python3.10/dist-packages (from spacy<3.5.0,>=3.4.1->en-core-web-trf==3.4.1) (24.1)\n",
            "Requirement already satisfied: langcodes<4.0.0,>=3.2.0 in /usr/local/lib/python3.10/dist-packages (from spacy<3.5.0,>=3.4.1->en-core-web-trf==3.4.1) (3.4.0)\n",
            "Requirement already satisfied: transformers<4.26.0,>=3.4.0 in /usr/local/lib/python3.10/dist-packages (from spacy-transformers<1.2.0,>=1.1.2->en-core-web-trf==3.4.1) (4.25.1)\n",
            "Requirement already satisfied: torch>=1.6.0 in /usr/local/lib/python3.10/dist-packages (from spacy-transformers<1.2.0,>=1.1.2->en-core-web-trf==3.4.1) (2.3.0+cu121)\n",
            "Requirement already satisfied: spacy-alignments<1.0.0,>=0.7.2 in /usr/local/lib/python3.10/dist-packages (from spacy-transformers<1.2.0,>=1.1.2->en-core-web-trf==3.4.1) (0.9.1)\n",
            "Requirement already satisfied: language-data>=1.2 in /usr/local/lib/python3.10/dist-packages (from langcodes<4.0.0,>=3.2.0->spacy<3.5.0,>=3.4.1->en-core-web-trf==3.4.1) (1.2.0)\n",
            "Requirement already satisfied: pathlib-abc==0.1.1 in /usr/local/lib/python3.10/dist-packages (from pathy>=0.3.5->spacy<3.5.0,>=3.4.1->en-core-web-trf==3.4.1) (0.1.1)\n",
            "Requirement already satisfied: typing-extensions>=4.2.0 in /usr/local/lib/python3.10/dist-packages (from pydantic!=1.8,!=1.8.1,<1.11.0,>=1.7.4->spacy<3.5.0,>=3.4.1->en-core-web-trf==3.4.1) (4.12.2)\n",
            "Requirement already satisfied: charset-normalizer<4,>=2 in /usr/local/lib/python3.10/dist-packages (from requests<3.0.0,>=2.13.0->spacy<3.5.0,>=3.4.1->en-core-web-trf==3.4.1) (3.3.2)\n",
            "Requirement already satisfied: idna<4,>=2.5 in /usr/local/lib/python3.10/dist-packages (from requests<3.0.0,>=2.13.0->spacy<3.5.0,>=3.4.1->en-core-web-trf==3.4.1) (3.7)\n",
            "Requirement already satisfied: urllib3<3,>=1.21.1 in /usr/local/lib/python3.10/dist-packages (from requests<3.0.0,>=2.13.0->spacy<3.5.0,>=3.4.1->en-core-web-trf==3.4.1) (2.0.7)\n",
            "Requirement already satisfied: certifi>=2017.4.17 in /usr/local/lib/python3.10/dist-packages (from requests<3.0.0,>=2.13.0->spacy<3.5.0,>=3.4.1->en-core-web-trf==3.4.1) (2024.6.2)\n",
            "Requirement already satisfied: blis<0.8.0,>=0.7.8 in /usr/local/lib/python3.10/dist-packages (from thinc<8.2.0,>=8.1.0->spacy<3.5.0,>=3.4.1->en-core-web-trf==3.4.1) (0.7.11)\n",
            "Requirement already satisfied: confection<1.0.0,>=0.0.1 in /usr/local/lib/python3.10/dist-packages (from thinc<8.2.0,>=8.1.0->spacy<3.5.0,>=3.4.1->en-core-web-trf==3.4.1) (0.1.5)\n",
            "Requirement already satisfied: filelock in /usr/local/lib/python3.10/dist-packages (from torch>=1.6.0->spacy-transformers<1.2.0,>=1.1.2->en-core-web-trf==3.4.1) (3.14.0)\n",
            "Requirement already satisfied: sympy in /usr/local/lib/python3.10/dist-packages (from torch>=1.6.0->spacy-transformers<1.2.0,>=1.1.2->en-core-web-trf==3.4.1) (1.12.1)\n",
            "Requirement already satisfied: networkx in /usr/local/lib/python3.10/dist-packages (from torch>=1.6.0->spacy-transformers<1.2.0,>=1.1.2->en-core-web-trf==3.4.1) (3.3)\n",
            "Requirement already satisfied: fsspec in /usr/local/lib/python3.10/dist-packages (from torch>=1.6.0->spacy-transformers<1.2.0,>=1.1.2->en-core-web-trf==3.4.1) (2023.6.0)\n",
            "Requirement already satisfied: nvidia-cuda-nvrtc-cu12==12.1.105 in /usr/local/lib/python3.10/dist-packages (from torch>=1.6.0->spacy-transformers<1.2.0,>=1.1.2->en-core-web-trf==3.4.1) (12.1.105)\n",
            "Requirement already satisfied: nvidia-cuda-runtime-cu12==12.1.105 in /usr/local/lib/python3.10/dist-packages (from torch>=1.6.0->spacy-transformers<1.2.0,>=1.1.2->en-core-web-trf==3.4.1) (12.1.105)\n",
            "Requirement already satisfied: nvidia-cuda-cupti-cu12==12.1.105 in /usr/local/lib/python3.10/dist-packages (from torch>=1.6.0->spacy-transformers<1.2.0,>=1.1.2->en-core-web-trf==3.4.1) (12.1.105)\n",
            "Requirement already satisfied: nvidia-cudnn-cu12==8.9.2.26 in /usr/local/lib/python3.10/dist-packages (from torch>=1.6.0->spacy-transformers<1.2.0,>=1.1.2->en-core-web-trf==3.4.1) (8.9.2.26)\n",
            "Requirement already satisfied: nvidia-cublas-cu12==12.1.3.1 in /usr/local/lib/python3.10/dist-packages (from torch>=1.6.0->spacy-transformers<1.2.0,>=1.1.2->en-core-web-trf==3.4.1) (12.1.3.1)\n",
            "Requirement already satisfied: nvidia-cufft-cu12==11.0.2.54 in /usr/local/lib/python3.10/dist-packages (from torch>=1.6.0->spacy-transformers<1.2.0,>=1.1.2->en-core-web-trf==3.4.1) (11.0.2.54)\n",
            "Requirement already satisfied: nvidia-curand-cu12==10.3.2.106 in /usr/local/lib/python3.10/dist-packages (from torch>=1.6.0->spacy-transformers<1.2.0,>=1.1.2->en-core-web-trf==3.4.1) (10.3.2.106)\n",
            "Requirement already satisfied: nvidia-cusolver-cu12==11.4.5.107 in /usr/local/lib/python3.10/dist-packages (from torch>=1.6.0->spacy-transformers<1.2.0,>=1.1.2->en-core-web-trf==3.4.1) (11.4.5.107)\n",
            "Requirement already satisfied: nvidia-cusparse-cu12==12.1.0.106 in /usr/local/lib/python3.10/dist-packages (from torch>=1.6.0->spacy-transformers<1.2.0,>=1.1.2->en-core-web-trf==3.4.1) (12.1.0.106)\n",
            "Requirement already satisfied: nvidia-nccl-cu12==2.20.5 in /usr/local/lib/python3.10/dist-packages (from torch>=1.6.0->spacy-transformers<1.2.0,>=1.1.2->en-core-web-trf==3.4.1) (2.20.5)\n",
            "Requirement already satisfied: nvidia-nvtx-cu12==12.1.105 in /usr/local/lib/python3.10/dist-packages (from torch>=1.6.0->spacy-transformers<1.2.0,>=1.1.2->en-core-web-trf==3.4.1) (12.1.105)\n",
            "Requirement already satisfied: triton==2.3.0 in /usr/local/lib/python3.10/dist-packages (from torch>=1.6.0->spacy-transformers<1.2.0,>=1.1.2->en-core-web-trf==3.4.1) (2.3.0)\n",
            "Requirement already satisfied: nvidia-nvjitlink-cu12 in /usr/local/lib/python3.10/dist-packages (from nvidia-cusolver-cu12==11.4.5.107->torch>=1.6.0->spacy-transformers<1.2.0,>=1.1.2->en-core-web-trf==3.4.1) (12.5.40)\n",
            "Requirement already satisfied: huggingface-hub<1.0,>=0.10.0 in /usr/local/lib/python3.10/dist-packages (from transformers<4.26.0,>=3.4.0->spacy-transformers<1.2.0,>=1.1.2->en-core-web-trf==3.4.1) (0.23.3)\n",
            "Requirement already satisfied: pyyaml>=5.1 in /usr/local/lib/python3.10/dist-packages (from transformers<4.26.0,>=3.4.0->spacy-transformers<1.2.0,>=1.1.2->en-core-web-trf==3.4.1) (6.0.1)\n",
            "Requirement already satisfied: regex!=2019.12.17 in /usr/local/lib/python3.10/dist-packages (from transformers<4.26.0,>=3.4.0->spacy-transformers<1.2.0,>=1.1.2->en-core-web-trf==3.4.1) (2024.5.15)\n",
            "Requirement already satisfied: tokenizers!=0.11.3,<0.14,>=0.11.1 in /usr/local/lib/python3.10/dist-packages (from transformers<4.26.0,>=3.4.0->spacy-transformers<1.2.0,>=1.1.2->en-core-web-trf==3.4.1) (0.13.3)\n",
            "Requirement already satisfied: click<9.0.0,>=7.1.1 in /usr/local/lib/python3.10/dist-packages (from typer<0.8.0,>=0.3.0->spacy<3.5.0,>=3.4.1->en-core-web-trf==3.4.1) (8.1.7)\n",
            "Requirement already satisfied: MarkupSafe>=2.0 in /usr/local/lib/python3.10/dist-packages (from jinja2->spacy<3.5.0,>=3.4.1->en-core-web-trf==3.4.1) (2.1.5)\n",
            "Requirement already satisfied: marisa-trie>=0.7.7 in /usr/local/lib/python3.10/dist-packages (from language-data>=1.2->langcodes<4.0.0,>=3.2.0->spacy<3.5.0,>=3.4.1->en-core-web-trf==3.4.1) (1.2.0)\n",
            "Requirement already satisfied: mpmath<1.4.0,>=1.1.0 in /usr/local/lib/python3.10/dist-packages (from sympy->torch>=1.6.0->spacy-transformers<1.2.0,>=1.1.2->en-core-web-trf==3.4.1) (1.3.0)\n",
            "\u001b[38;5;2m✔ Download and installation successful\u001b[0m\n",
            "You can now load the package via spacy.load('en_core_web_trf')\n"
          ]
        }
      ],
      "source": [
        "!python -m spacy download en_core_web_trf\n"
      ]
    },
    {
      "cell_type": "code",
      "execution_count": null,
      "metadata": {
        "colab": {
          "background_save": true
        },
        "id": "Lc4ls_U_HO4S",
        "outputId": "d6b61898-9a01-49ef-84c9-af5646bcc223"
      },
      "outputs": [
        {
          "name": "stderr",
          "output_type": "stream",
          "text": [
            "/usr/local/lib/python3.10/dist-packages/spacy/util.py:910: UserWarning: [W095] Model 'en_core_med7_trf' (3.4.2.1) was trained with spaCy v3.4.2 and may not be 100% compatible with the current version (3.7.5). If you see errors or degraded performance, download a newer compatible model or retrain your custom model with the current spaCy version. For more details and available updates, run: python -m spacy validate\n",
            "  warnings.warn(warn_msg)\n"
          ]
        },
        {
          "ename": "ValueError",
          "evalue": "[E002] Can't find factory for 'transformer' for language English (en). This usually happens when spaCy calls `nlp.create_pipe` with a custom component name that's not registered on the current language class. If you're using a custom component, make sure you've added the decorator `@Language.component` (for function components) or `@Language.factory` (for class components).\n\nAvailable factories: attribute_ruler, tok2vec, merge_noun_chunks, merge_entities, merge_subtokens, token_splitter, doc_cleaner, parser, beam_parser, lemmatizer, trainable_lemmatizer, entity_linker, entity_ruler, tagger, morphologizer, ner, beam_ner, senter, sentencizer, spancat, spancat_singlelabel, span_finder, future_entity_ruler, span_ruler, textcat, textcat_multilabel, en.lemmatizer",
          "output_type": "error",
          "traceback": [
            "\u001b[0;31m---------------------------------------------------------------------------\u001b[0m",
            "\u001b[0;31mValueError\u001b[0m                                Traceback (most recent call last)",
            "\u001b[0;32m<ipython-input-66-3aa036777c3e>\u001b[0m in \u001b[0;36m<cell line: 1>\u001b[0;34m()\u001b[0m\n\u001b[0;32m----> 1\u001b[0;31m \u001b[0mmed7\u001b[0m \u001b[0;34m=\u001b[0m \u001b[0mspacy\u001b[0m\u001b[0;34m.\u001b[0m\u001b[0mload\u001b[0m\u001b[0;34m(\u001b[0m\u001b[0;34m\"en_core_med7_trf\"\u001b[0m\u001b[0;34m)\u001b[0m\u001b[0;34m\u001b[0m\u001b[0;34m\u001b[0m\u001b[0m\n\u001b[0m\u001b[1;32m      2\u001b[0m \u001b[0;34m\u001b[0m\u001b[0m\n\u001b[1;32m      3\u001b[0m \u001b[0mmedical_text\u001b[0m \u001b[0;34m=\u001b[0m \u001b[0;34m\"PREOPERATIVE DIAGNOSIS:,  Rhabdomyosarcoma of the left orbit.,POSTOPERATIVE DIAGNOSIS:,  Rhabdomyosarcoma of the left orbit.,PROCEDURE: , Left subclavian vein MediPort placement (7.5-French single-lumen).,INDICATIONS FOR PROCEDURE: , This patient is a 16-year-old girl, with newly diagnosed rhabdomyosarcoma of the left orbit.  The patient is being taken to the operating room for MediPort placement.  She needs chemotherapy.,DESCRIPTION OF PROCEDURE: , The patient was taken to the operating room, placed supine, put under general endotracheal anesthesia.  The patient's neck, chest, and shoulders were prepped and draped in usual sterile fashion.  An incision was made on the left shoulder area.  The left subclavian vein was cannulated.  The wire was passed, which was in good position under fluoro, using Seldinger Technique.  Near wire incision site made a pocket above the fascia and sutured in a size 7.5-French single-lumen MediPort into the pocket in 4 places using 3-0 Nurolon.  I then sized the catheter under fluoro and placed introducer and dilator over the wire, removed the wire and dilator, placed the catheter through the introducer and removed the introducer.  The line tip was in good position under fluoro.  It withdrew and flushed well.  I then closed the incision using 4-0 Vicryl, 5-0 Monocryl for the skin, and dressed with Steri-Strips.  Accessed the ports with a 1-inch 20-gauge Huber needle, and it withdrew and flushed well with final heparin flush.  We secured this with Tegaderm.  The patient is then to undergo bilateral bone marrow biopsy and lumbar puncture by Oncology.\"\u001b[0m\u001b[0;34m\u001b[0m\u001b[0;34m\u001b[0m\u001b[0m\n\u001b[1;32m      4\u001b[0m \u001b[0;34m\u001b[0m\u001b[0m\n\u001b[1;32m      5\u001b[0m \u001b[0;34m\u001b[0m\u001b[0m\n",
            "\u001b[0;32m/usr/local/lib/python3.10/dist-packages/spacy/__init__.py\u001b[0m in \u001b[0;36mload\u001b[0;34m(name, vocab, disable, enable, exclude, config)\u001b[0m\n\u001b[1;32m     49\u001b[0m         \u001b[0mcomponents\u001b[0m \u001b[0mwon\u001b[0m\u001b[0;31m'\u001b[0m\u001b[0mt\u001b[0m \u001b[0mbe\u001b[0m \u001b[0mloaded\u001b[0m\u001b[0;34m.\u001b[0m\u001b[0;34m\u001b[0m\u001b[0;34m\u001b[0m\u001b[0m\n\u001b[1;32m     50\u001b[0m     \u001b[0mconfig\u001b[0m \u001b[0;34m(\u001b[0m\u001b[0mDict\u001b[0m\u001b[0;34m[\u001b[0m\u001b[0mstr\u001b[0m\u001b[0;34m,\u001b[0m \u001b[0mAny\u001b[0m\u001b[0;34m]\u001b[0m \u001b[0;34m/\u001b[0m \u001b[0mConfig\u001b[0m\u001b[0;34m)\u001b[0m\u001b[0;34m:\u001b[0m \u001b[0mConfig\u001b[0m \u001b[0moverrides\u001b[0m \u001b[0;32mas\u001b[0m \u001b[0mnested\u001b[0m \u001b[0mdict\u001b[0m \u001b[0;32mor\u001b[0m \u001b[0mdict\u001b[0m\u001b[0;34m\u001b[0m\u001b[0;34m\u001b[0m\u001b[0m\n\u001b[0;32m---> 51\u001b[0;31m         \u001b[0mkeyed\u001b[0m \u001b[0mby\u001b[0m \u001b[0msection\u001b[0m \u001b[0mvalues\u001b[0m \u001b[0;32min\u001b[0m \u001b[0mdot\u001b[0m \u001b[0mnotation\u001b[0m\u001b[0;34m.\u001b[0m\u001b[0;34m\u001b[0m\u001b[0;34m\u001b[0m\u001b[0m\n\u001b[0m\u001b[1;32m     52\u001b[0m     \u001b[0mRETURNS\u001b[0m \u001b[0;34m(\u001b[0m\u001b[0mLanguage\u001b[0m\u001b[0;34m)\u001b[0m\u001b[0;34m:\u001b[0m \u001b[0mThe\u001b[0m \u001b[0mloaded\u001b[0m \u001b[0mnlp\u001b[0m \u001b[0mobject\u001b[0m\u001b[0;34m.\u001b[0m\u001b[0;34m\u001b[0m\u001b[0;34m\u001b[0m\u001b[0m\n\u001b[1;32m     53\u001b[0m     \"\"\"\n",
            "\u001b[0;32m/usr/local/lib/python3.10/dist-packages/spacy/util.py\u001b[0m in \u001b[0;36mload_model\u001b[0;34m(name, vocab, disable, enable, exclude, config)\u001b[0m\n\u001b[1;32m    463\u001b[0m     \u001b[0mconfig\u001b[0m \u001b[0;34m(\u001b[0m\u001b[0mDict\u001b[0m\u001b[0;34m[\u001b[0m\u001b[0mstr\u001b[0m\u001b[0;34m,\u001b[0m \u001b[0mAny\u001b[0m\u001b[0;34m]\u001b[0m \u001b[0;34m/\u001b[0m \u001b[0mConfig\u001b[0m\u001b[0;34m)\u001b[0m\u001b[0;34m:\u001b[0m \u001b[0mConfig\u001b[0m \u001b[0moverrides\u001b[0m \u001b[0;32mas\u001b[0m \u001b[0mnested\u001b[0m \u001b[0mdict\u001b[0m \u001b[0;32mor\u001b[0m \u001b[0mdict\u001b[0m\u001b[0;34m\u001b[0m\u001b[0;34m\u001b[0m\u001b[0m\n\u001b[1;32m    464\u001b[0m         \u001b[0mkeyed\u001b[0m \u001b[0mby\u001b[0m \u001b[0msection\u001b[0m \u001b[0mvalues\u001b[0m \u001b[0;32min\u001b[0m \u001b[0mdot\u001b[0m \u001b[0mnotation\u001b[0m\u001b[0;34m.\u001b[0m\u001b[0;34m\u001b[0m\u001b[0;34m\u001b[0m\u001b[0m\n\u001b[0;32m--> 465\u001b[0;31m     \u001b[0mRETURNS\u001b[0m \u001b[0;34m(\u001b[0m\u001b[0mLanguage\u001b[0m\u001b[0;34m)\u001b[0m\u001b[0;34m:\u001b[0m \u001b[0mThe\u001b[0m \u001b[0mloaded\u001b[0m \u001b[0mnlp\u001b[0m \u001b[0mobject\u001b[0m\u001b[0;34m.\u001b[0m\u001b[0;34m\u001b[0m\u001b[0;34m\u001b[0m\u001b[0m\n\u001b[0m\u001b[1;32m    466\u001b[0m     \"\"\"\n\u001b[1;32m    467\u001b[0m     \u001b[0mcls\u001b[0m \u001b[0;34m=\u001b[0m \u001b[0mimportlib\u001b[0m\u001b[0;34m.\u001b[0m\u001b[0mimport_module\u001b[0m\u001b[0;34m(\u001b[0m\u001b[0mname\u001b[0m\u001b[0;34m)\u001b[0m\u001b[0;34m\u001b[0m\u001b[0;34m\u001b[0m\u001b[0m\n",
            "\u001b[0;32m/usr/local/lib/python3.10/dist-packages/spacy/util.py\u001b[0m in \u001b[0;36mload_model_from_package\u001b[0;34m(name, vocab, disable, enable, exclude, config)\u001b[0m\n\u001b[1;32m    499\u001b[0m     \u001b[0;32mif\u001b[0m \u001b[0;32mnot\u001b[0m \u001b[0mmodel_path\u001b[0m\u001b[0;34m.\u001b[0m\u001b[0mexists\u001b[0m\u001b[0;34m(\u001b[0m\u001b[0;34m)\u001b[0m\u001b[0;34m:\u001b[0m\u001b[0;34m\u001b[0m\u001b[0;34m\u001b[0m\u001b[0m\n\u001b[1;32m    500\u001b[0m         \u001b[0;32mraise\u001b[0m \u001b[0mIOError\u001b[0m\u001b[0;34m(\u001b[0m\u001b[0mErrors\u001b[0m\u001b[0;34m.\u001b[0m\u001b[0mE052\u001b[0m\u001b[0;34m.\u001b[0m\u001b[0mformat\u001b[0m\u001b[0;34m(\u001b[0m\u001b[0mpath\u001b[0m\u001b[0;34m=\u001b[0m\u001b[0mmodel_path\u001b[0m\u001b[0;34m)\u001b[0m\u001b[0;34m)\u001b[0m\u001b[0;34m\u001b[0m\u001b[0;34m\u001b[0m\u001b[0m\n\u001b[0;32m--> 501\u001b[0;31m     \u001b[0;32mif\u001b[0m \u001b[0;32mnot\u001b[0m \u001b[0mmeta\u001b[0m\u001b[0;34m:\u001b[0m\u001b[0;34m\u001b[0m\u001b[0;34m\u001b[0m\u001b[0m\n\u001b[0m\u001b[1;32m    502\u001b[0m         \u001b[0mmeta\u001b[0m \u001b[0;34m=\u001b[0m \u001b[0mget_model_meta\u001b[0m\u001b[0;34m(\u001b[0m\u001b[0mmodel_path\u001b[0m\u001b[0;34m)\u001b[0m\u001b[0;34m\u001b[0m\u001b[0;34m\u001b[0m\u001b[0m\n\u001b[1;32m    503\u001b[0m     \u001b[0mconfig_path\u001b[0m \u001b[0;34m=\u001b[0m \u001b[0mmodel_path\u001b[0m \u001b[0;34m/\u001b[0m \u001b[0;34m\"config.cfg\"\u001b[0m\u001b[0;34m\u001b[0m\u001b[0;34m\u001b[0m\u001b[0m\n",
            "\u001b[0;32m/usr/local/lib/python3.10/dist-packages/en_core_med7_trf/__init__.py\u001b[0m in \u001b[0;36mload\u001b[0;34m(**overrides)\u001b[0m\n\u001b[1;32m      8\u001b[0m \u001b[0;34m\u001b[0m\u001b[0m\n\u001b[1;32m      9\u001b[0m \u001b[0;32mdef\u001b[0m \u001b[0mload\u001b[0m\u001b[0;34m(\u001b[0m\u001b[0;34m**\u001b[0m\u001b[0moverrides\u001b[0m\u001b[0;34m)\u001b[0m\u001b[0;34m:\u001b[0m\u001b[0;34m\u001b[0m\u001b[0;34m\u001b[0m\u001b[0m\n\u001b[0;32m---> 10\u001b[0;31m     \u001b[0;32mreturn\u001b[0m \u001b[0mload_model_from_init_py\u001b[0m\u001b[0;34m(\u001b[0m\u001b[0m__file__\u001b[0m\u001b[0;34m,\u001b[0m \u001b[0;34m**\u001b[0m\u001b[0moverrides\u001b[0m\u001b[0;34m)\u001b[0m\u001b[0;34m\u001b[0m\u001b[0;34m\u001b[0m\u001b[0m\n\u001b[0m",
            "\u001b[0;32m/usr/local/lib/python3.10/dist-packages/spacy/util.py\u001b[0m in \u001b[0;36mload_model_from_init_py\u001b[0;34m(init_file, vocab, disable, enable, exclude, config)\u001b[0m\n\u001b[1;32m    680\u001b[0m         \u001b[0;32mif\u001b[0m \u001b[0;32mnot\u001b[0m \u001b[0mconfig_path\u001b[0m \u001b[0;32mor\u001b[0m \u001b[0;32mnot\u001b[0m \u001b[0mconfig_path\u001b[0m\u001b[0;34m.\u001b[0m\u001b[0mis_file\u001b[0m\u001b[0;34m(\u001b[0m\u001b[0;34m)\u001b[0m\u001b[0;34m:\u001b[0m\u001b[0;34m\u001b[0m\u001b[0;34m\u001b[0m\u001b[0m\n\u001b[1;32m    681\u001b[0m             \u001b[0;32mraise\u001b[0m \u001b[0mIOError\u001b[0m\u001b[0;34m(\u001b[0m\u001b[0mErrors\u001b[0m\u001b[0;34m.\u001b[0m\u001b[0mE053\u001b[0m\u001b[0;34m.\u001b[0m\u001b[0mformat\u001b[0m\u001b[0;34m(\u001b[0m\u001b[0mpath\u001b[0m\u001b[0;34m=\u001b[0m\u001b[0mconfig_path\u001b[0m\u001b[0;34m,\u001b[0m \u001b[0mname\u001b[0m\u001b[0;34m=\u001b[0m\u001b[0;34m\"config file\"\u001b[0m\u001b[0;34m)\u001b[0m\u001b[0;34m)\u001b[0m\u001b[0;34m\u001b[0m\u001b[0;34m\u001b[0m\u001b[0m\n\u001b[0;32m--> 682\u001b[0;31m         return config.from_disk(\n\u001b[0m\u001b[1;32m    683\u001b[0m             \u001b[0mconfig_path\u001b[0m\u001b[0;34m,\u001b[0m \u001b[0moverrides\u001b[0m\u001b[0;34m=\u001b[0m\u001b[0moverrides\u001b[0m\u001b[0;34m,\u001b[0m \u001b[0minterpolate\u001b[0m\u001b[0;34m=\u001b[0m\u001b[0minterpolate\u001b[0m\u001b[0;34m\u001b[0m\u001b[0;34m\u001b[0m\u001b[0m\n\u001b[1;32m    684\u001b[0m         )\n",
            "\u001b[0;32m/usr/local/lib/python3.10/dist-packages/spacy/util.py\u001b[0m in \u001b[0;36mload_model_from_path\u001b[0;34m(model_path, meta, vocab, disable, enable, exclude, config)\u001b[0m\n\u001b[1;32m    537\u001b[0m         \u001b[0menable\u001b[0m \u001b[0mthem\u001b[0m \u001b[0mby\u001b[0m \u001b[0mcalling\u001b[0m \u001b[0mnlp\u001b[0m\u001b[0;34m.\u001b[0m\u001b[0menable_pipe\u001b[0m\u001b[0;34m.\u001b[0m\u001b[0;34m\u001b[0m\u001b[0;34m\u001b[0m\u001b[0m\n\u001b[1;32m    538\u001b[0m     \u001b[0menable\u001b[0m \u001b[0;34m(\u001b[0m\u001b[0mUnion\u001b[0m\u001b[0;34m[\u001b[0m\u001b[0mstr\u001b[0m\u001b[0;34m,\u001b[0m \u001b[0mIterable\u001b[0m\u001b[0;34m[\u001b[0m\u001b[0mstr\u001b[0m\u001b[0;34m]\u001b[0m\u001b[0;34m]\u001b[0m\u001b[0;34m)\u001b[0m\u001b[0;34m:\u001b[0m \u001b[0mName\u001b[0m\u001b[0;34m(\u001b[0m\u001b[0ms\u001b[0m\u001b[0;34m)\u001b[0m \u001b[0mof\u001b[0m \u001b[0mpipeline\u001b[0m \u001b[0mcomponent\u001b[0m\u001b[0;34m(\u001b[0m\u001b[0ms\u001b[0m\u001b[0;34m)\u001b[0m \u001b[0mto\u001b[0m \u001b[0menable\u001b[0m\u001b[0;34m.\u001b[0m \u001b[0mAll\u001b[0m \u001b[0mother\u001b[0m\u001b[0;34m\u001b[0m\u001b[0;34m\u001b[0m\u001b[0m\n\u001b[0;32m--> 539\u001b[0;31m         \u001b[0mpipes\u001b[0m \u001b[0mwill\u001b[0m \u001b[0mbe\u001b[0m \u001b[0mdisabled\u001b[0m \u001b[0;34m(\u001b[0m\u001b[0;32mand\u001b[0m \u001b[0mcan\u001b[0m \u001b[0mbe\u001b[0m \u001b[0menabled\u001b[0m \u001b[0musing\u001b[0m\u001b[0;31m \u001b[0m\u001b[0;31m`\u001b[0m\u001b[0mnlp\u001b[0m\u001b[0;34m.\u001b[0m\u001b[0menable_pipe\u001b[0m\u001b[0;31m`\u001b[0m\u001b[0;34m)\u001b[0m\u001b[0;34m.\u001b[0m\u001b[0;34m\u001b[0m\u001b[0;34m\u001b[0m\u001b[0m\n\u001b[0m\u001b[1;32m    540\u001b[0m     \u001b[0mexclude\u001b[0m \u001b[0;34m(\u001b[0m\u001b[0mUnion\u001b[0m\u001b[0;34m[\u001b[0m\u001b[0mstr\u001b[0m\u001b[0;34m,\u001b[0m \u001b[0mIterable\u001b[0m\u001b[0;34m[\u001b[0m\u001b[0mstr\u001b[0m\u001b[0;34m]\u001b[0m\u001b[0;34m]\u001b[0m\u001b[0;34m)\u001b[0m\u001b[0;34m:\u001b[0m \u001b[0mName\u001b[0m\u001b[0;34m(\u001b[0m\u001b[0ms\u001b[0m\u001b[0;34m)\u001b[0m \u001b[0mof\u001b[0m \u001b[0mpipeline\u001b[0m \u001b[0mcomponent\u001b[0m\u001b[0;34m(\u001b[0m\u001b[0ms\u001b[0m\u001b[0;34m)\u001b[0m \u001b[0mto\u001b[0m \u001b[0mexclude\u001b[0m\u001b[0;34m.\u001b[0m \u001b[0mExcluded\u001b[0m\u001b[0;34m\u001b[0m\u001b[0;34m\u001b[0m\u001b[0m\n\u001b[1;32m    541\u001b[0m         \u001b[0mcomponents\u001b[0m \u001b[0mwon\u001b[0m\u001b[0;31m'\u001b[0m\u001b[0mt\u001b[0m \u001b[0mbe\u001b[0m \u001b[0mloaded\u001b[0m\u001b[0;34m.\u001b[0m\u001b[0;34m\u001b[0m\u001b[0;34m\u001b[0m\u001b[0m\n",
            "\u001b[0;32m/usr/local/lib/python3.10/dist-packages/spacy/util.py\u001b[0m in \u001b[0;36mload_model_from_config\u001b[0;34m(config, meta, vocab, disable, enable, exclude, auto_fill, validate)\u001b[0m\n\u001b[1;32m    585\u001b[0m     \u001b[0mThe\u001b[0m \u001b[0mpaths\u001b[0m \u001b[0mcould\u001b[0m \u001b[0mpoint\u001b[0m \u001b[0manywhere\u001b[0m \u001b[0minto\u001b[0m \u001b[0mthe\u001b[0m \u001b[0mconfig\u001b[0m\u001b[0;34m,\u001b[0m \u001b[0mso\u001b[0m \u001b[0mwe\u001b[0m \u001b[0mdon\u001b[0m\u001b[0;31m'\u001b[0m\u001b[0mt\u001b[0m \u001b[0mknow\u001b[0m \u001b[0mwhich\u001b[0m\u001b[0;34m\u001b[0m\u001b[0;34m\u001b[0m\u001b[0m\n\u001b[1;32m    586\u001b[0m     \u001b[0mtop\u001b[0m\u001b[0;34m-\u001b[0m\u001b[0mlevel\u001b[0m \u001b[0msection\u001b[0m \u001b[0mwe\u001b[0m\u001b[0;31m'\u001b[0m\u001b[0mll\u001b[0m \u001b[0mbe\u001b[0m \u001b[0mlooking\u001b[0m \u001b[0mwithin\u001b[0m\u001b[0;34m.\u001b[0m\u001b[0;34m\u001b[0m\u001b[0;34m\u001b[0m\u001b[0m\n\u001b[0;32m--> 587\u001b[0;31m \u001b[0;34m\u001b[0m\u001b[0m\n\u001b[0m\u001b[1;32m    588\u001b[0m     \u001b[0mWe\u001b[0m \u001b[0mresolve\u001b[0m \u001b[0mthe\u001b[0m \u001b[0mwhole\u001b[0m \u001b[0mtop\u001b[0m\u001b[0;34m-\u001b[0m\u001b[0mlevel\u001b[0m \u001b[0msection\u001b[0m\u001b[0;34m,\u001b[0m \u001b[0malthough\u001b[0m \u001b[0mwe\u001b[0m \u001b[0mcould\u001b[0m \u001b[0mresolve\u001b[0m \u001b[0mless\u001b[0m \u001b[0;34m-\u001b[0m\u001b[0;34m-\u001b[0m\u001b[0;34m\u001b[0m\u001b[0;34m\u001b[0m\u001b[0m\n\u001b[1;32m    589\u001b[0m     \u001b[0mwe\u001b[0m \u001b[0mcould\u001b[0m \u001b[0mfind\u001b[0m \u001b[0mthe\u001b[0m \u001b[0mlowest\u001b[0m \u001b[0mpart\u001b[0m \u001b[0mof\u001b[0m \u001b[0mthe\u001b[0m \u001b[0mtree\u001b[0m\u001b[0;34m.\u001b[0m\u001b[0;34m\u001b[0m\u001b[0;34m\u001b[0m\u001b[0m\n",
            "\u001b[0;32m/usr/local/lib/python3.10/dist-packages/spacy/language.py\u001b[0m in \u001b[0;36mfrom_config\u001b[0;34m(cls, config, vocab, disable, enable, exclude, meta, auto_fill, validate)\u001b[0m\n\u001b[1;32m   1887\u001b[0m                 warnings.warn(\n\u001b[1;32m   1888\u001b[0m                     Warnings.W123.format(\n\u001b[0;32m-> 1889\u001b[0;31m                         \u001b[0menable\u001b[0m\u001b[0;34m=\u001b[0m\u001b[0menable\u001b[0m\u001b[0;34m,\u001b[0m\u001b[0;34m\u001b[0m\u001b[0;34m\u001b[0m\u001b[0m\n\u001b[0m\u001b[1;32m   1890\u001b[0m                         \u001b[0menabled\u001b[0m\u001b[0;34m=\u001b[0m\u001b[0menabled\u001b[0m\u001b[0;34m,\u001b[0m\u001b[0;34m\u001b[0m\u001b[0;34m\u001b[0m\u001b[0m\n\u001b[1;32m   1891\u001b[0m                     )\n",
            "\u001b[0;32m/usr/local/lib/python3.10/dist-packages/spacy/language.py\u001b[0m in \u001b[0;36madd_pipe\u001b[0;34m(self, factory_name, name, before, after, first, last, source, config, raw_config, validate)\u001b[0m\n\u001b[1;32m    819\u001b[0m     ) -> int:\n\u001b[1;32m    820\u001b[0m         \"\"\"Determine where to insert a pipeline component based on the before/\n\u001b[0;32m--> 821\u001b[0;31m         \u001b[0mafter\u001b[0m\u001b[0;34m/\u001b[0m\u001b[0mfirst\u001b[0m\u001b[0;34m/\u001b[0m\u001b[0mlast\u001b[0m \u001b[0mvalues\u001b[0m\u001b[0;34m.\u001b[0m\u001b[0;34m\u001b[0m\u001b[0;34m\u001b[0m\u001b[0m\n\u001b[0m\u001b[1;32m    822\u001b[0m \u001b[0;34m\u001b[0m\u001b[0m\n\u001b[1;32m    823\u001b[0m         \u001b[0mbefore\u001b[0m \u001b[0;34m(\u001b[0m\u001b[0mstr\u001b[0m\u001b[0;34m)\u001b[0m\u001b[0;34m:\u001b[0m \u001b[0mName\u001b[0m \u001b[0;32mor\u001b[0m \u001b[0mindex\u001b[0m \u001b[0mof\u001b[0m \u001b[0mthe\u001b[0m \u001b[0mcomponent\u001b[0m \u001b[0mto\u001b[0m \u001b[0minsert\u001b[0m \u001b[0mdirectly\u001b[0m \u001b[0mbefore\u001b[0m\u001b[0;34m.\u001b[0m\u001b[0;34m\u001b[0m\u001b[0;34m\u001b[0m\u001b[0m\n",
            "\u001b[0;32m/usr/local/lib/python3.10/dist-packages/spacy/language.py\u001b[0m in \u001b[0;36mcreate_pipe\u001b[0;34m(self, factory_name, name, config, raw_config, validate)\u001b[0m\n\u001b[1;32m    688\u001b[0m         \u001b[0mfilled\u001b[0m\u001b[0;34m.\u001b[0m\u001b[0mpop\u001b[0m\u001b[0;34m(\u001b[0m\u001b[0;34m\"name\"\u001b[0m\u001b[0;34m,\u001b[0m \u001b[0;32mNone\u001b[0m\u001b[0;34m)\u001b[0m\u001b[0;34m\u001b[0m\u001b[0;34m\u001b[0m\u001b[0m\n\u001b[1;32m    689\u001b[0m         \u001b[0;31m# Merge the final filled config with the raw config (including non-\u001b[0m\u001b[0;34m\u001b[0m\u001b[0;34m\u001b[0m\u001b[0m\n\u001b[0;32m--> 690\u001b[0;31m         \u001b[0;31m# interpolated variables)\u001b[0m\u001b[0;34m\u001b[0m\u001b[0;34m\u001b[0m\u001b[0m\n\u001b[0m\u001b[1;32m    691\u001b[0m         \u001b[0;32mif\u001b[0m \u001b[0mraw_config\u001b[0m\u001b[0;34m:\u001b[0m\u001b[0;34m\u001b[0m\u001b[0;34m\u001b[0m\u001b[0m\n\u001b[1;32m    692\u001b[0m             \u001b[0mfilled\u001b[0m \u001b[0;34m=\u001b[0m \u001b[0mfilled\u001b[0m\u001b[0;34m.\u001b[0m\u001b[0mmerge\u001b[0m\u001b[0;34m(\u001b[0m\u001b[0mraw_config\u001b[0m\u001b[0;34m)\u001b[0m\u001b[0;34m\u001b[0m\u001b[0;34m\u001b[0m\u001b[0m\n",
            "\u001b[0;31mValueError\u001b[0m: [E002] Can't find factory for 'transformer' for language English (en). This usually happens when spaCy calls `nlp.create_pipe` with a custom component name that's not registered on the current language class. If you're using a custom component, make sure you've added the decorator `@Language.component` (for function components) or `@Language.factory` (for class components).\n\nAvailable factories: attribute_ruler, tok2vec, merge_noun_chunks, merge_entities, merge_subtokens, token_splitter, doc_cleaner, parser, beam_parser, lemmatizer, trainable_lemmatizer, entity_linker, entity_ruler, tagger, morphologizer, ner, beam_ner, senter, sentencizer, spancat, spancat_singlelabel, span_finder, future_entity_ruler, span_ruler, textcat, textcat_multilabel, en.lemmatizer"
          ]
        }
      ],
      "source": [
        "med7 = spacy.load(\"en_core_med7_trf\")\n",
        "\n",
        "medical_text = \"PREOPERATIVE DIAGNOSIS:,  Rhabdomyosarcoma of the left orbit.,POSTOPERATIVE DIAGNOSIS:,  Rhabdomyosarcoma of the left orbit.,PROCEDURE: , Left subclavian vein MediPort placement (7.5-French single-lumen).,INDICATIONS FOR PROCEDURE: , This patient is a 16-year-old girl, with newly diagnosed rhabdomyosarcoma of the left orbit.  The patient is being taken to the operating room for MediPort placement.  She needs chemotherapy.,DESCRIPTION OF PROCEDURE: , The patient was taken to the operating room, placed supine, put under general endotracheal anesthesia.  The patient's neck, chest, and shoulders were prepped and draped in usual sterile fashion.  An incision was made on the left shoulder area.  The left subclavian vein was cannulated.  The wire was passed, which was in good position under fluoro, using Seldinger Technique.  Near wire incision site made a pocket above the fascia and sutured in a size 7.5-French single-lumen MediPort into the pocket in 4 places using 3-0 Nurolon.  I then sized the catheter under fluoro and placed introducer and dilator over the wire, removed the wire and dilator, placed the catheter through the introducer and removed the introducer.  The line tip was in good position under fluoro.  It withdrew and flushed well.  I then closed the incision using 4-0 Vicryl, 5-0 Monocryl for the skin, and dressed with Steri-Strips.  Accessed the ports with a 1-inch 20-gauge Huber needle, and it withdrew and flushed well with final heparin flush.  We secured this with Tegaderm.  The patient is then to undergo bilateral bone marrow biopsy and lumbar puncture by Oncology.\"\n",
        "\n",
        "\n",
        "docs = med7(medical_text)\n",
        "\n",
        "\n",
        "extracted_entities = [(ent.text, ent.label_) for ent in docs.ents]\n",
        "print(extracted_entities)"
      ]
    },
    {
      "cell_type": "code",
      "execution_count": null,
      "metadata": {
        "colab": {
          "background_save": true
        },
        "id": "41lFhK_ZcYRg"
      },
      "outputs": [],
      "source": [
        "import json\n",
        "with open(\"/content/drive/MyDrive/SKILLFIT/finall.json\", \"r\") as f:\n",
        "    annotated_data = json.load(f)\n",
        "\n",
        "\n",
        "def merge_entities(existing_entities, new_entities):\n",
        "    merged_entities = existing_entities.copy()\n",
        "    for ent in new_entities:\n",
        "\n",
        "        if ent not in merged_entities:\n",
        "            merged_entities.append(ent)\n",
        "    return merged_entities\n",
        "\n",
        "# Process text with Med7 and merge entities with annotated data\n",
        "for entry in annotated_data:\n",
        "    if isinstance(entry, dict):\n",
        "\n",
        "        clinical_text = entry.get(\"PREOPERATIVE DIAGNOSIS:,  Left renal mass, 5 cm in diameter.,POSTOPERATIVE DIAGNOSIS:,  Left renal mass, 5 cm in diameter.,OPERATION PERFORMED: , Left partial nephrectomy.,ANESTHESIA: , General with epidural.,COMPLICATIONS: , None.,ESTIMATED BLOOD LOSS: , About 350 mL.,REPLACEMENT: , Crystalloid and Cell Savers from the case.,INDICATIONS FOR SURGERY:  ,This is a 64-year-old man with a left renal mass that was confirmed to be renal cell carcinoma by needle biopsy.  Due to the peripheral nature of the tumor located in the mid to lower pole laterally, he has elected to undergo a partial nephrectomy.  Potential complications include but are not limited to,,1.  Infection.,2.  Bleeding.,3.  Postoperative pain.,4.  Herniation from the incision.,PROCEDURE IN DETAIL:,  Epidural anesthesia was administered in the holding area, after which the patient was transferred into the operating room.  General endotracheal anesthesia was administered, after which the patient was positioned in the flank standard position.  A left flank incision was made over the area of the twelfth rib.  The subcutaneous space was opened by using the Bovie.  The ribs were palpated clearly and the fascia overlying the intercostal space between the eleventh and twelfth rib was opened by using the Bovie.  The fascial layer covering of the intercostal space was opened completely until the retroperitoneum was entered.  Once the retroperitoneum had been entered, the incision was extended until the peritoneal envelope could be identified.  The peritoneum was swept medially.  The Finochietto retractor was then placed for exposure.  The kidney was readily identified and was mobilized from outside Gerota's fascia.  The ureter was dissected out easily and was separated with a vessel loop.  The superior aspect of the kidney was mobilized from the superior attachment.  The pedicle of the left kidney was completely dissected revealing the vein and the artery.  The artery was a single artery and was dissected easily by using a right-angle clamp.  A vessel loop was placed around the renal artery.  The tumor could be easily palpated in the lateral lower pole to mid pole of the left kidney.  The Gerota's fascia overlying that portion of the kidney was opened in the area circumferential to the tumor.  Once the renal capsule had been identified, the capsule was scored using a Bovie about 0.5 cm lateral to the border of the tumor.  Bulldog clamp was then placed on the renal artery.  The tumor was then bluntly dissected off of the kidney with a thin rim of a normal renal cortex.  This was performed by using the blunted end of the scalpel.  The tumor was removed easily.  The argon beam coagulation device was then utilized to coagulate the base of the resection.  The visible larger bleeding vessels were oversewn by using 4-0 Vicryl suture.  The edges of the kidney were then reapproximated by using 2-0 Vicryl suture with pledgets at the ends of the sutures to prevent the sutures from pulling through.  Two horizontal mattress sutures were placed and were tied down.  The Gerota's fascia was then also closed by using 2-0 Vicryl suture.  The area of the kidney at the base was covered with Surgicel prior to tying the sutures.  The bulldog clamp was removed and perfect hemostasis was evident.  There was no evidence of violation into the calyceal system.  A 19-French Blake drain was placed in the inferior aspect of the kidney exiting the left flank inferior to the incision.  The drain was anchored by using silk sutures.  The flank fascial layers were closed in three separate layers in the more medial aspect.  The lateral posterior aspect was closed in two separate layers using Vicryl sutures.  The skin was finally reapproximated by using metallic clips.  The patient tolerated the procedure well\", \"\")\n",
        "\n",
        "        clinical_doc = med7(clinical_text)\n",
        "\n",
        "        # Extract entities from Med7\n",
        "        med7_entities = [(ent.text, ent.label_) for ent in clinical_doc.ents]\n",
        "\n",
        "        merged_entities = merge_entities(entry.get(\"entities\", []), med7_entities)\n",
        "\n",
        "        entry[\"entities\"] = merged_entities\n"
      ]
    },
    {
      "cell_type": "code",
      "execution_count": null,
      "metadata": {
        "colab": {
          "background_save": true
        },
        "id": "ZanSjjAEhYzl"
      },
      "outputs": [],
      "source": [
        "import os\n",
        "\n",
        "def read_raw_text_file(file_path):\n",
        "    with open(file_path, 'r') as file:\n",
        "        raw_text = file.read()\n",
        "    return raw_text\n",
        "\n",
        "raw_text_file = '/content/drive/MyDrive/SKILLFIT/train_model.txt'\n",
        "raw_text_data = read_raw_text_file(raw_text_file)\n",
        "\n",
        "# Combine raw text data with annotations\n",
        "combined_data = []\n",
        "for raw_text, annotation in zip(raw_text_data, annotated_data):\n",
        "    if isinstance(annotation, dict) and 'annotations' in annotation:\n",
        "        combined_data.append({'text': raw_text, 'annotations': annotation['annotations']})\n",
        "    else:\n",
        "        print(f\"Unexpected annotation format: {annotation}\")\n",
        "\n",
        "print(combined_data)\n",
        "\n",
        "training_data = []\n",
        "for item in combined_data:\n",
        "    text = item['text']\n",
        "    annotations = item['annotations']\n",
        "    entities = [(start, end, label) for start, end, label in annotations]\n",
        "    training_data.append((text, {'entities': entities}))\n",
        "\n"
      ]
    },
    {
      "cell_type": "code",
      "execution_count": null,
      "metadata": {
        "colab": {
          "background_save": true
        },
        "id": "oq7mrPaJ-Dki"
      },
      "outputs": [],
      "source": [
        "import json\n",
        "import pandas as pd\n",
        "import spacy\n",
        "from spacy.training.example import Example\n",
        "\n",
        "\n",
        "nlp_custom = spacy.load('/content/drive/MyDrive/SKILLFIT/trained_models/output/model-best')\n",
        "\n",
        "\n",
        "med7_model = spacy.load(\"en_core_med7_trf\")\n",
        "\n",
        "def read_data_from_text_file(file_path):\n",
        "    with open(file_path, 'r') as file:\n",
        "        return file.readlines()\n",
        "\n",
        "\n",
        "new_text_file_path = \"/content/drive/MyDrive/SKILLFIT/train_model.txt\"\n",
        "json_annotations_file_path = \"/content/drive/MyDrive/SKILLFIT/finall.json\"\n",
        "csv_file_path = \"dynamic_structured_data.csv\"\n",
        "\n",
        "new_clinical_data = read_data_from_text_file(new_text_file_path)\n",
        "\n",
        "with open(json_annotations_file_path, 'r') as file:\n",
        "    annotations = json.load(file)\n",
        "\n",
        "# Extract classes and annotations\n",
        "entity_types = annotations['classes']\n",
        "annotation_data = annotations['annotations']\n",
        "\n",
        "# Prepare training data for custom NER model\n",
        "training_data = []\n",
        "for item in annotation_data:\n",
        "    if item is not None and isinstance(item, list) and len(item) > 1:\n",
        "        text = item[0]\n",
        "        ents = item[1]['entities']\n",
        "        entities = [(ent[0], ent[1], ent[2]) for ent in ents]\n",
        "        example = Example.from_dict(nlp_custom.make_doc(text), {\"entities\": entities})\n",
        "        training_data.append(example)\n",
        "\n",
        "# Initialize a list to store structured data\n",
        "combined_entities_list = []\n",
        "\n",
        "\n",
        "for clinical_text in new_clinical_data:\n",
        "    # Process Med7 model\n",
        "    doc_med7 = med7_model(clinical_text)\n",
        "    med7_entities = [(ent.text, ent.label_) for ent in doc_med7.ents]\n",
        "\n",
        "    # Process custom NER model\n",
        "    doc_custom = nlp_custom(clinical_text)\n",
        "    custom_entities = [(ent.text, ent.label_) for ent in doc_custom.ents]\n",
        "\n",
        "    combined_entities = med7_entities + custom_entities\n",
        "\n",
        "    text_data = {entity_type: [] for entity_type in entity_types}\n",
        "    text_data['Text'] = clinical_text.strip()\n",
        "\n",
        "    # Organize entities by label\n",
        "    for entity, label in combined_entities:\n",
        "        if label in text_data:\n",
        "            text_data[label].append(entity)\n",
        "\n",
        "    # Convert lists to comma-separated strings\n",
        "    for key in text_data:\n",
        "        if isinstance(text_data[key], list):\n",
        "            text_data[key] = \", \".join(text_data[key])\n",
        "\n",
        "    combined_entities_list.append(text_data)\n",
        "\n",
        "df = pd.DataFrame(combined_entities_list)\n",
        "\n",
        "\n",
        "df.to_csv(csv_file_path, index=False)\n",
        "\n",
        "print(f\"Annotated data saved to {csv_file_path}\")\n"
      ]
    },
    {
      "cell_type": "code",
      "execution_count": null,
      "metadata": {
        "colab": {
          "background_save": true
        },
        "id": "9VMBXPJH_lyd"
      },
      "outputs": [],
      "source": [
        "import spacy\n",
        "from spacy.training import Example\n",
        "from spacy.scorer import Scorer\n",
        "import matplotlib.pyplot as plt\n",
        "\n",
        "\n",
        "nlp = spacy.load('/content/drive/MyDrive/SKILLFIT/trained_models/output/model-best')\n",
        "scorer = Scorer()\n",
        "\n",
        "examples = []\n",
        "\n",
        "for item in test:\n",
        "\n",
        "    if item is None:\n",
        "        continue\n",
        "\n",
        "\n",
        "    if isinstance(item, list) and len(item) == 2 and isinstance(item[0], str) and isinstance(item[1], dict):\n",
        "        text = item[0]\n",
        "        entities_dict = item[1]\n",
        "\n",
        "        if 'entities' in entities_dict:\n",
        "            entities = entities_dict['entities']\n",
        "\n",
        "\n",
        "            annots = [(start, end, label) for start, end, label in entities]\n",
        "\n",
        "\n",
        "            predicted = nlp(text)\n",
        "\n",
        "\n",
        "            final = {'entities': annots}\n",
        "\n",
        "\n",
        "            example = Example.from_dict(predicted, final)\n",
        "            examples.append(example)\n",
        "        else:\n",
        "            print(f\"Skipping item with missing 'entities' key: {item}\")\n",
        "    else:\n",
        "        print(f\"Skipping invalid item: {item}\")\n",
        "\n",
        "scores = scorer.score(examples)\n",
        "\n",
        "\n",
        "precision = scores[\"ents_p\"]\n",
        "recall = scores[\"ents_r\"]\n",
        "f1_score = scores[\"ents_f\"]\n",
        "\n",
        "\n",
        "print(\"Precision:\", precision)\n",
        "print(\"Recall:\", recall)\n",
        "print(\"F1-score:\", f1_score)\n",
        "\n",
        "\n",
        "if None in [precision, recall, f1_score]:\n",
        "    print(\"Warning: One or more metrics is None. Check the evaluation process.\")\n",
        "\n",
        "if None not in [precision, recall, f1_score]:\n",
        "    metrics = [precision, recall, f1_score]\n",
        "    metrics_names = [\"Precision\", \"Recall\", \"F1-score\"]\n",
        "\n",
        "    plt.figure(figsize=(10, 6))\n",
        "    plt.bar(metrics_names, metrics, color=['blue', 'green', 'red'])\n",
        "    plt.xlabel('Metrics')\n",
        "    plt.ylabel('Scores')\n",
        "    plt.title('Custom NER Model Performance Metrics')\n",
        "    plt.ylim(0, 1)\n",
        "    for index, value in enumerate(metrics):\n",
        "        plt.text(index, value, f\"{value:.2f}\", ha='center', va='bottom')\n",
        "    plt.show()\n",
        "else:\n",
        "    print(\"Cannot plot metrics because one or more metrics is None.\")\n"
      ]
    },
    {
      "cell_type": "code",
      "execution_count": null,
      "metadata": {
        "colab": {
          "background_save": true
        },
        "id": "jogYiPHjdybt"
      },
      "outputs": [],
      "source": [
        "import pandas as pd\n",
        "import spacy\n",
        "from spacy.training import Example\n",
        "from spacy.scorer import Scorer\n",
        "\n",
        "\n",
        "nlp_custom = spacy.load('/content/drive/MyDrive/SKILLFIT/trained_models/output/model-best')\n",
        "\n",
        "\n",
        "df = pd.read_csv('/content/drive/MyDrive/SKILLFIT/dynamic_structured_data.csv')\n",
        "\n",
        "scorer = Scorer()\n",
        "\n",
        "scores = []\n",
        "\n",
        "\n",
        "for index, row in df.iterrows():\n",
        "    text = row['Text']\n",
        "    entities = row['Entities']\n",
        "\n",
        "\n",
        "    example = Example.from_dict(nlp_custom.make_doc(text), {'entities': entities})\n",
        "\n",
        "\n",
        "    scores.append(scorer.score([example]))\n",
        "\n",
        "\n",
        "precision = sum(score['ents_p'] for score in scores) / len(scores)\n",
        "recall = sum(score['ents_r'] for score in scores) / len(scores)\n",
        "f1_score = sum(score['ents_f'] for score in scores) / len(scores)\n",
        "\n",
        "\n",
        "print(\"Custom NER Model:\")\n",
        "print(\"Precision:\", precision)\n",
        "print(\"Recall:\", recall)\n",
        "print(\"F1-score:\", f1_score)\n"
      ]
    },
    {
      "cell_type": "code",
      "execution_count": null,
      "metadata": {
        "colab": {
          "background_save": true
        },
        "id": "af4Qnzl1aQnz"
      },
      "outputs": [],
      "source": [
        "import pandas as pd\n",
        "import spacy\n",
        "from spacy.training import Example\n",
        "from spacy.scorer import Scorer\n",
        "import json\n",
        "\n",
        "\n",
        "nlp_custom = spacy.load('/content/drive/MyDrive/SKILLFIT/trained_models/output/model-best')\n",
        "nlp_med7 = spacy.load(\"en_core_med7_trf\")\n",
        "\n",
        "\n",
        "df = pd.read_csv('/content/drive/MyDrive/SKILLFIT/dynamic_structured_data.csv')\n",
        "\n",
        "print(df.columns)\n",
        "\n",
        "# Ensure the 'Text' column is present\n",
        "if 'Text' not in df.columns:\n",
        "    raise ValueError(\"The CSV file must contain a 'Text' column.\")\n",
        "\n",
        "with open('/content/drive/MyDrive/SKILLFIT/finall.json', 'r') as file:\n",
        "    annotations_data = json.load(file)\n",
        "\n",
        "# Convert annotations into a dictionary for easy lookup\n",
        "annotations_dict = {item['text']: item['annotations'] for item in annotations_data}\n",
        "\n",
        "\n",
        "scorer_custom = Scorer()\n",
        "scorer_med7 = Scorer()\n",
        "\n",
        "scores_custom = []\n",
        "scores_med7 = []\n",
        "\n",
        "# Iterate through each row of the DataFrame\n",
        "for index, row in df.iterrows():\n",
        "    text = row['Text']\n",
        "\n",
        "    if text in annotations_dict:\n",
        "        entities = annotations_dict[text]\n",
        "    else:\n",
        "        print(f\"No annotations found for text: {text}\")\n",
        "        continue\n",
        "\n",
        "    # Create Example objects\n",
        "    example_custom = Example.from_dict(nlp_custom.make_doc(text), {'entities': entities})\n",
        "    example_med7 = Example.from_dict(nlp_med7.make_doc(text), {'entities': entities})\n",
        "\n",
        "    # Score the examples\n",
        "    scores_custom.append(scorer_custom.score([example_custom]))\n",
        "    scores_med7.append(scorer_med7.score([example_med7]))\n",
        "\n",
        "# Aggregate scores for both models\n",
        "precision_custom = sum(score['ents_p'] for score in scores_custom) / len(scores_custom)\n",
        "recall_custom = sum(score['ents_r'] for score in scores_custom) / len(scores_custom)\n",
        "f1_score_custom = sum(score['ents_f'] for score in scores_custom) / len(scores_custom)\n",
        "\n",
        "precision_med7 = sum(score['ents_p'] for score in scores_med7) / len(scores_med7)\n",
        "recall_med7 = sum(score['ents_r'] for score in scores_med7) / len(scores_med7)\n",
        "f1_score_med7 = sum(score['ents_f'] for score in scores_med7) / len(scores_med7)\n",
        "\n",
        "# Print the evaluation metrics\n",
        "print(\"Custom NER Model:\")\n",
        "print(\"Precision:\", precision_custom)\n",
        "print(\"Recall:\", recall_custom)\n",
        "print(\"F1-score:\", f1_score_custom)\n",
        "\n",
        "print(\"\\nMed7 Model:\")\n",
        "print(\"Precision:\", precision_med7)\n",
        "print(\"Recall:\", recall_med7)\n",
        "print(\"F1-score:\", f1_score_med7)\n"
      ]
    }
  ],
  "metadata": {
    "accelerator": "GPU",
    "colab": {
      "gpuType": "T4",
      "provenance": []
    },
    "kernelspec": {
      "display_name": "Python 3",
      "name": "python3"
    },
    "language_info": {
      "name": "python"
    }
  },
  "nbformat": 4,
  "nbformat_minor": 0
}